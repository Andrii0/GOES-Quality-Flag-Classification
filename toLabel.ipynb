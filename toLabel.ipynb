{
 "cells": [
  {
   "cell_type": "code",
   "execution_count": 115,
   "metadata": {
    "collapsed": true
   },
   "outputs": [],
   "source": [
    "import numpy as np\n",
    "import os\n",
    "import h5py\n",
    "from bs4 import BeautifulSoup\n",
    "import requests"
   ]
  },
  {
   "cell_type": "code",
   "execution_count": 117,
   "metadata": {
    "collapsed": true
   },
   "outputs": [],
   "source": [
    "mainpath = '/Users/aleex/DSE/Machine Learning/Project/toyData/'\n",
    "\n",
    "outpath = '/Users/aleex/DSE/Machine Learning/Project/label/'\n",
    "if not os.path.exists(outpath):\n",
    "    os.makedirs(outpath)\n",
    "    "
   ]
  },
  {
   "cell_type": "code",
   "execution_count": 148,
   "metadata": {
    "collapsed": false
   },
   "outputs": [
    {
     "name": "stdout",
     "output_type": "stream",
     "text": [
      "{'s20192210000': ['/Users/aleex/DSE/Machine Learning/Project/toyData/OR_ABI-L1b-RadF-M6C07_G16_s20192210000548_e20192210010268_c20192210010328.npy', '/Users/aleex/DSE/Machine Learning/Project/toyData/OR_ABI-L1b-RadF-M6C07_G17_s20192210000339_e20192210009416_c20192210009459.npy']}\n"
     ]
    }
   ],
   "source": [
    "def getUniTime(filename):\n",
    "    splits = filename.split('_')\n",
    "    return splits[-3][:-3]\n",
    "\n",
    "file_dict = {}\n",
    "for root, dirs, files in os.walk(mainpath):\n",
    "    for file in files:\n",
    "        if file.endswith(\".npy\"):\n",
    "            uniTime = getUniTime(file)\n",
    "            if uniTime not in file_dict:\n",
    "                file_dict[uniTime] = []\n",
    "            file_dict[uniTime].append(os.path.join(root, file))\n",
    "                \n",
    "print(file_dict)\n"
   ]
  },
  {
   "cell_type": "code",
   "execution_count": 120,
   "metadata": {
    "collapsed": true
   },
   "outputs": [],
   "source": [
    "#Takes the urls for GOES16 and GOES17 from the same time\n",
    "def genLabel(goes16, goes17):\n",
    "    goes16 = np.load(goes16)\n",
    "    goes17 = np.load(goes17)\n",
    "\n",
    "    n1 = len(goes16)*len(goes16[0])\n",
    "    n2 = len(goes17)*len(goes17[0])\n",
    "\n",
    "    std1 = np.std(goes16)\n",
    "    std2 = np.std(goes17)\n",
    "\n",
    "    diff = goes16 - goes17\n",
    "    diff_std = np.std(diff)\n",
    "\n",
    "    #joint_std = np.sqrt(std1**2/n1 + std2**2/n2)\n",
    "    delta = abs(goes16 - goes17)\n",
    "    label = delta//diff_std\n",
    "    label = label.astype(int)\n",
    "    \n",
    "    return label\n"
   ]
  },
  {
   "cell_type": "code",
   "execution_count": 152,
   "metadata": {
    "collapsed": true
   },
   "outputs": [],
   "source": [
    "#Outputs the data of G17 and the generated label in HDF5\n",
    "def writeH5(data, label, uniTime):\n",
    "    coords = np.array(data).astype(np.float)\n",
    "    shape = coords.shape\n",
    "    hdf5_path = outpath + uniTime + '.h5'\n",
    "    with h5py.File(hdf5_path, mode='w') as f:\n",
    "        d = f.create_dataset('/data', data = coords)\n",
    "        l = f.create_dataset('/label', data = label)\n",
    "        "
   ]
  },
  {
   "cell_type": "code",
   "execution_count": 151,
   "metadata": {
    "collapsed": false
   },
   "outputs": [
    {
     "name": "stdout",
     "output_type": "stream",
     "text": [
      "['/Users/aleex/DSE/Machine Learning/Project/toyData/OR_ABI-L1b-RadF-M6C07_G16_s20192210000548_e20192210010268_c20192210010328.npy', '/Users/aleex/DSE/Machine Learning/Project/toyData/OR_ABI-L1b-RadF-M6C07_G17_s20192210000339_e20192210009416_c20192210009459.npy']\n"
     ]
    }
   ],
   "source": [
    "for key in file_dict:\n",
    "    pair = file_dict[key]\n",
    "    if len(pair) == 2:\n",
    "        print(pair)\n",
    "        labels = genLabel(pair[0], pair[1])\n",
    "        writeH5(np.load(pair[1]), labels, key)"
   ]
  },
  {
   "cell_type": "code",
   "execution_count": 68,
   "metadata": {
    "collapsed": true
   },
   "outputs": [],
   "source": [
    "#out = outpath + 'label1.txt'\n",
    "#np.savetxt(out, label, fmt='%10.f')"
   ]
  },
  {
   "cell_type": "code",
   "execution_count": 77,
   "metadata": {
    "collapsed": false
   },
   "outputs": [
    {
     "data": {
      "text/plain": [
       "'\\ndef scrapeURL(rootURL):\\n    page = requests.get(rootURL).text\\n    soup = BeautifulSoup(page, \\'html.parser\\')\\n\\n    url_table = soup.find(\\'table\\', {\"class\" : \"table tree-table\"})\\n    urls = []\\n\\n    for row in url_table.find_all(\\'tr\\'):\\n        cols = row.find_all(\\'td\\')\\n        if len(cols) == 2:\\n            urls.append(cols[1].text.strip())\\n    return urls'"
      ]
     },
     "execution_count": 77,
     "metadata": {},
     "output_type": "execute_result"
    }
   ],
   "source": [
    "'''\n",
    "def scrapeURL(rootURL):\n",
    "    page = requests.get(rootURL).text\n",
    "    soup = BeautifulSoup(page, 'html.parser')\n",
    "\n",
    "    url_table = soup.find('table', {\"class\" : \"table tree-table\"})\n",
    "    urls = []\n",
    "\n",
    "    for row in url_table.find_all('tr'):\n",
    "        cols = row.find_all('td')\n",
    "        if len(cols) == 2:\n",
    "            urls.append(cols[1].text.strip())\n",
    "    return urls'''"
   ]
  },
  {
   "cell_type": "code",
   "execution_count": 76,
   "metadata": {
    "collapsed": false
   },
   "outputs": [
    {
     "data": {
      "text/plain": [
       "'from bs4 import BeautifulSoup\\nimport requests\\n\\n#URL = \\'https://github.com/adomakor412/GOES-Quality-Flag-Classification/blob/master/G16_G17_url_list/G16_data_08_09-19.txt\\'\\ngoes16_urls = []\\ngoes17_urls = []\\nfor s in range(16,18):\\n    SS = str(s).zfill(2)\\n    for d in range(221, 238):#the website for particular day\\n        DDD = str(d)\\n        rootURL = f\"https://gitlab.com/adomakor412/goesdata/-/blob/master/fall_npy/{DDD}/\"\\n        scraped_urls = scrapeURL(rootURL)\\n        if SS == \\'16\\':\\n            goes16_urls += scraped_urls\\n        else:\\n            goes17_urls += scraped_urls\\nprint(len(goes16_urls))\\nprint(len(goes17_urls))'"
      ]
     },
     "execution_count": 76,
     "metadata": {},
     "output_type": "execute_result"
    }
   ],
   "source": [
    "'''\n",
    "\n",
    "#URL = 'https://github.com/adomakor412/GOES-Quality-Flag-Classification/blob/master/G16_G17_url_list/G16_data_08_09-19.txt'\n",
    "goes16_urls = []\n",
    "goes17_urls = []\n",
    "for s in range(16,18):\n",
    "    SS = str(s).zfill(2)\n",
    "    for d in range(221, 238):#the website for particular day\n",
    "        DDD = str(d)\n",
    "        rootURL = f\"https://gitlab.com/adomakor412/goesdata/-/blob/master/fall_npy/{DDD}/\"\n",
    "        scraped_urls = scrapeURL(rootURL)\n",
    "        if SS == '16':\n",
    "            goes16_urls += scraped_urls\n",
    "        else:\n",
    "            goes17_urls += scraped_urls\n",
    "print(len(goes16_urls))\n",
    "print(len(goes17_urls))'''"
   ]
  },
  {
   "cell_type": "code",
   "execution_count": 71,
   "metadata": {
    "collapsed": true
   },
   "outputs": [],
   "source": [
    "'''rootURL = \"https://gitlab.com/adomakor412/goesdata/-/blob/master/fall_npy/221/\"\n",
    "\n",
    "def listurls(prefix,html):\n",
    "    soup = BeautifulSoup(html.text)\n",
    "    urllist = [elt['href'] for elt in soup.find_all(href=re.compile(prefix))]\n",
    "    return urllist'''"
   ]
  },
  {
   "cell_type": "code",
   "execution_count": 72,
   "metadata": {
    "collapsed": false
   },
   "outputs": [
    {
     "ename": "NameError",
     "evalue": "name 'hh' is not defined",
     "output_type": "error",
     "traceback": [
      "\u001b[0;31m---------------------------------------------------------------------------\u001b[0m",
      "\u001b[0;31mNameError\u001b[0m                                 Traceback (most recent call last)",
      "\u001b[0;32m<ipython-input-72-6ecca6a94781>\u001b[0m in \u001b[0;36m<module>\u001b[0;34m\u001b[0m\n\u001b[1;32m     14\u001b[0m             \u001b[0;32mfor\u001b[0m \u001b[0mt\u001b[0m \u001b[0;32min\u001b[0m \u001b[0mrange\u001b[0m\u001b[0;34m(\u001b[0m\u001b[0;36m2\u001b[0m\u001b[0;34m)\u001b[0m\u001b[0;34m:\u001b[0m\u001b[0;31m#this is for the hour\u001b[0m\u001b[0;34m\u001b[0m\u001b[0;34m\u001b[0m\u001b[0m\n\u001b[1;32m     15\u001b[0m                 \u001b[0mhr\u001b[0m \u001b[0;34m=\u001b[0m \u001b[0mstr\u001b[0m\u001b[0;34m(\u001b[0m\u001b[0mt\u001b[0m\u001b[0;34m)\u001b[0m\u001b[0;34m.\u001b[0m\u001b[0mzfill\u001b[0m\u001b[0;34m(\u001b[0m\u001b[0;36m2\u001b[0m\u001b[0;34m)\u001b[0m\u001b[0;34m\u001b[0m\u001b[0;34m\u001b[0m\u001b[0m\n\u001b[0;32m---> 16\u001b[0;31m                 \u001b[0mtemplate\u001b[0m \u001b[0;34m=\u001b[0m \u001b[0;34mf\"https://gitlab.com/adomakor412/goesdata/-/blob/master/fall_npy/{DDD}/OR_ABI-L1b-RadF-M6C07_G{SS}_s2019{DDD}{hh}{mm}\"\u001b[0m\u001b[0;34m\u001b[0m\u001b[0;34m\u001b[0m\u001b[0m\n\u001b[0m\u001b[1;32m     17\u001b[0m \u001b[0;34m\u001b[0m\u001b[0m\n\u001b[1;32m     18\u001b[0m                 \u001b[0mprint\u001b[0m\u001b[0;34m(\u001b[0m\u001b[0mtemplate\u001b[0m\u001b[0;34m)\u001b[0m\u001b[0;34m\u001b[0m\u001b[0;34m\u001b[0m\u001b[0m\n",
      "\u001b[0;31mNameError\u001b[0m: name 'hh' is not defined"
     ]
    }
   ],
   "source": [
    "'''\n",
    "for s in range(16,18):\n",
    "    SS = str(s).zfill(2)\n",
    "    for i in range(221,238):#the website for particular day   \n",
    "        if i < 244:\n",
    "            mm = '08'\n",
    "            DD = str(31-(243-i)).zfill(2)\n",
    "        else:\n",
    "            mm ='09'\n",
    "            DD = str(i-243).zfill(2)\n",
    "        dd = str(i).zfill(2)\n",
    "        filename = f\"G{SS}_data_{mm}_{dd}-19.txt\"\n",
    "        filename.format(**{'SS':SS,'mm':mm,'dd':dd})\n",
    "        with open(filename,'w') as f:\n",
    "            for t in range(2):#this is for the hour\n",
    "                hr = str(t).zfill(2)\n",
    "                template = f\"https://gitlab.com/adomakor412/goesdata/-/blob/master/fall_npy/{DDD}/OR_ABI-L1b-RadF-M6C07_G{SS}_s2019{DDD}{hh}{mm}\"\n",
    "\n",
    "                print(template)\n",
    "                req = requests.get(template)\n",
    "                print(req)\n",
    "                for band in range(8):\n",
    "                    prefix = \"OR_ABI-L1b-RadF-M6C\" + str(band).zfill(2)\n",
    "                    bandURLList = listurls(prefix,req)\n",
    "                    print(bandURLList)\n",
    "                    print(*bandURLList,sep='\\n', file=f)'''"
   ]
  },
  {
   "cell_type": "code",
   "execution_count": 70,
   "metadata": {
    "collapsed": false
   },
   "outputs": [
    {
     "name": "stdout",
     "output_type": "stream",
     "text": [
      "#content-body\n",
      "/\n",
      "/explore\n",
      "/explore/groups\n",
      "/explore/snippets\n",
      "/help\n",
      "/search?project_id=18540418\n",
      "/help\n",
      "https://about.gitlab.com/releases/gitlab-com/\n",
      "/help\n",
      "https://about.gitlab.com/getting-help/\n",
      "https://about.gitlab.com/submit-feedback\n",
      "https://about.gitlab.com/contributing\n",
      "https://next.gitlab.com/\n",
      "/users/sign_in?redirect_to_referer=yes\n",
      "/adomakor412/goesdata\n",
      "/adomakor412/goesdata\n",
      "/adomakor412/goesdata\n",
      "/adomakor412/goesdata\n",
      "/adomakor412/goesdata/activity\n",
      "/adomakor412/goesdata/-/releases\n",
      "/adomakor412/goesdata/-/tree/master\n",
      "/adomakor412/goesdata/-/tree/master\n",
      "/adomakor412/goesdata/-/tree/master\n",
      "/adomakor412/goesdata/-/commits/master\n",
      "/adomakor412/goesdata/-/branches\n",
      "/adomakor412/goesdata/-/tags\n",
      "/adomakor412/goesdata/-/graphs/master\n",
      "/adomakor412/goesdata/-/network/master\n",
      "/adomakor412/goesdata/-/compare?from=master&to=master\n",
      "/adomakor412/goesdata/path_locks\n",
      "/adomakor412/goesdata/-/issues\n",
      "/adomakor412/goesdata/-/issues\n",
      "/adomakor412/goesdata/-/issues\n",
      "/adomakor412/goesdata/-/boards\n",
      "/adomakor412/goesdata/-/labels\n",
      "/adomakor412/goesdata/-/issues/service_desk\n",
      "/adomakor412/goesdata/-/milestones\n",
      "/adomakor412/goesdata/-/merge_requests\n",
      "/adomakor412/goesdata/-/merge_requests\n",
      "/adomakor412/goesdata/-/requirements\n",
      "/adomakor412/goesdata/-/requirements\n",
      "/adomakor412/goesdata/-/requirements\n",
      "/adomakor412/goesdata/pipelines\n",
      "/adomakor412/goesdata/pipelines\n",
      "/adomakor412/goesdata/pipelines\n",
      "/adomakor412/goesdata/-/jobs\n",
      "/adomakor412/goesdata/pipeline_schedules\n",
      "/adomakor412/goesdata/-/dependencies\n",
      "/adomakor412/goesdata/-/dependencies\n",
      "/adomakor412/goesdata/-/dependencies\n",
      "/adomakor412/goesdata/-/licenses\n",
      "/adomakor412/goesdata/-/packages\n",
      "/adomakor412/goesdata/-/packages\n",
      "/adomakor412/goesdata/-/packages\n",
      "/adomakor412/goesdata/container_registry\n",
      "/adomakor412/goesdata/-/value_stream_analytics\n",
      "/adomakor412/goesdata/-/value_stream_analytics\n",
      "/adomakor412/goesdata/pipelines/charts\n",
      "/adomakor412/goesdata/-/analytics/code_reviews\n",
      "/adomakor412/goesdata/insights/\n",
      "/adomakor412/goesdata/-/analytics/issues_analytics\n",
      "/adomakor412/goesdata/-/graphs/master/charts\n",
      "/adomakor412/goesdata/-/value_stream_analytics\n",
      "/adomakor412/goesdata/-/wikis/home\n",
      "/adomakor412/goesdata/-/wikis/home\n",
      "/adomakor412/goesdata/snippets\n",
      "/adomakor412/goesdata/snippets\n",
      "/adomakor412/goesdata/-/settings/members\n",
      "/adomakor412/goesdata/-/project_members\n",
      "/adomakor412/goesdata/activity\n",
      "/adomakor412/goesdata/-/network/master\n",
      "/adomakor412/goesdata/-/issues/new\n",
      "/adomakor412/goesdata/-/jobs\n",
      "/adomakor412/goesdata/-/commits/master\n",
      "/adomakor412/goesdata/-/boards\n",
      "/adomakor412\n",
      "/adomakor412/goesdata\n",
      "/adomakor412/goesdata/-/tree/master/fall_npy/221\n",
      "/adomakor412/goesdata/-/find_file/master\n",
      "/adomakor412/goesdata/-/archive/master/goesdata-master.zip\n",
      "/adomakor412/goesdata/-/archive/master/goesdata-master.tar.gz\n",
      "/adomakor412/goesdata/-/archive/master/goesdata-master.tar.bz2\n",
      "/adomakor412/goesdata/-/archive/master/goesdata-master.tar\n",
      "#\n",
      "git@gitlab.com:adomakor412/goesdata.git\n",
      "https://gitlab.com/adomakor412/goesdata.git\n"
     ]
    }
   ],
   "source": [
    "'''rootURL = \"https://gitlab.com/adomakor412/goesdata/-/blob/master/fall_npy/221/\"\n",
    "page = requests.get(rootURL).text\n",
    "soup = BeautifulSoup(page, 'html.parser')\n",
    "\n",
    "url_table = soup.findAll('a')\n",
    "for link in url_table:  \n",
    "    if link.has_attr('href'):\n",
    "            print(link['href'])\n",
    "#print(url_table[0:]['href'])'''"
   ]
  },
  {
   "cell_type": "code",
   "execution_count": 111,
   "metadata": {
    "collapsed": true
   },
   "outputs": [],
   "source": [
    "dataSource = np.DataSource(None)\n",
    "response = np.DataSource('https://gitlab.com/adomakor412/goesdata/-/blob/master/fall_npy/221/OR_ABI-L1b-RadF-M6C07_G16_s20192210000548_e20192210010268_c20192210010328.npy')"
   ]
  },
  {
   "cell_type": "code",
   "execution_count": 113,
   "metadata": {
    "collapsed": false
   },
   "outputs": [
    {
     "data": {
      "text/plain": [
       "<_io.TextIOWrapper name='/Users/aleex/DSE/Machine Learning/Project/https:/gitlab.com/adomakor412/goesdata/-/blob/master/fall_npy/221/OR_ABI-L1b-RadF-M6C07_G16_s20192210000548_e20192210010268_c20192210010328.npy/gitlab.com/adomakor412/goesdata/-/blob/master/fall_npy/221/OR_ABI-L1b-RadF-M6C07_G16_s20192210000548_e20192210010268_c20192210010328.npy' mode='r' encoding='UTF-8'>"
      ]
     },
     "execution_count": 113,
     "metadata": {},
     "output_type": "execute_result"
    }
   ],
   "source": [
    "response.open('https://gitlab.com/adomakor412/goesdata/-/blob/master/fall_npy/221/OR_ABI-L1b-RadF-M6C07_G16_s20192210000548_e20192210010268_c20192210010328.npy')"
   ]
  },
  {
   "cell_type": "code",
   "execution_count": 114,
   "metadata": {
    "collapsed": false
   },
   "outputs": [
    {
     "name": "stdout",
     "output_type": "stream",
     "text": [
      "<numpy.DataSource object at 0x11c344250>\n"
     ]
    }
   ],
   "source": [
    "print(response)"
   ]
  },
  {
   "cell_type": "code",
   "execution_count": null,
   "metadata": {
    "collapsed": true
   },
   "outputs": [],
   "source": []
  }
 ],
 "metadata": {
  "kernelspec": {
   "display_name": "Python 3",
   "language": "python",
   "name": "python3"
  },
  "language_info": {
   "codemirror_mode": {
    "name": "ipython",
    "version": 3
   },
   "file_extension": ".py",
   "mimetype": "text/x-python",
   "name": "python",
   "nbconvert_exporter": "python",
   "pygments_lexer": "ipython3",
   "version": "3.7.4"
  }
 },
 "nbformat": 4,
 "nbformat_minor": 2
}
