{
 "cells": [
  {
   "cell_type": "code",
   "execution_count": 1,
   "metadata": {},
   "outputs": [],
   "source": [
    "from sklearn.model_selection import train_test_split\n",
    "import os"
   ]
  },
  {
   "cell_type": "code",
   "execution_count": null,
   "metadata": {},
   "outputs": [],
   "source": [
    "mainpath = 'PATH TO ALL YOUR H5 DATA'\n",
    "\n",
    "trainpath = 'PATH TO YOUR H5 TRAINING DATA'\n",
    "if not os.path.exists(trainpath):\n",
    "    os.makedirs(trainpath)\n",
    "    \n",
    "testpath = 'PATH TO YOUR H5 TEST DATA'\n",
    "if not os.path.exists(testpath):\n",
    "    os.makedirs(testpath)\n",
    "\n",
    "valpath = 'PATH TO YOUR H5 VALIDATION DATA'\n",
    "if not os.path.exists(valpath):\n",
    "    os.makedirs(valpath)\n",
    "\n",
    "filenames = []\n",
    "for root, dirs, files in os.walk(mainpath):\n",
    "    for file in files:\n",
    "        if file.endswith(\".h5\"):\n",
    "             filenames.append(os.path.join(root, file))\n",
    "                \n",
    "train, test = train_test_split(filenames, test_size = 0.2, random_state = 42)\n",
    "\n",
    "train, val = train_test_split(train, test_size = 0.2, random_state = 42)"
   ]
  }
 ],
 "metadata": {
  "kernelspec": {
   "display_name": "Python 3",
   "language": "python",
   "name": "python3"
  },
  "language_info": {
   "codemirror_mode": {
    "name": "ipython",
    "version": 3
   },
   "file_extension": ".py",
   "mimetype": "text/x-python",
   "name": "python",
   "nbconvert_exporter": "python",
   "pygments_lexer": "ipython3",
   "version": "3.7.4"
  }
 },
 "nbformat": 4,
 "nbformat_minor": 2
}
