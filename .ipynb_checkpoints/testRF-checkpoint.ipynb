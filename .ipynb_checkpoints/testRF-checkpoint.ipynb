{
 "cells": [
  {
   "cell_type": "code",
   "execution_count": 42,
   "metadata": {},
   "outputs": [],
   "source": [
    "import numpy as np\n",
    "import h5py\n",
    "import os\n",
    "from sklearn.ensemble import RandomForestClassifier\n",
    "from sklearn.metrics import recall_score\n",
    "import pickle"
   ]
  },
  {
   "cell_type": "code",
   "execution_count": 37,
   "metadata": {},
   "outputs": [],
   "source": [
    "MODEL_PATH = '/Users/aleex/DSE/Machine Learning/Project/rf_model_entire_set_depth_10.sav'\n",
    "FILE_NAME = '/Users/aleex/DSE/Machine Learning/Project/test_files.txt'\n",
    "FILE_ROOT_PATH = '/Users/aleex/DSE/Machine Learning/Project/'\n"
   ]
  },
  {
   "cell_type": "code",
   "execution_count": 38,
   "metadata": {},
   "outputs": [
    {
     "name": "stdout",
     "output_type": "stream",
     "text": [
      "/Users/aleex/DSE/Machine Learning/Project/s20191081850.h5\n"
     ]
    }
   ],
   "source": [
    "files = []\n",
    "with open(FILE_NAME, 'r') as f:\n",
    "    line = f.readlines()\n",
    "    files.append(FILE_ROOT_PATH + line)\n",
    "\n",
    "test_data = np.empty((0,4), float)\n",
    "test_label = np.empty((0), int)\n",
    "\n",
    "for file in files:\n",
    "    with h5py.File(file, 'r') as f:\n",
    "        index = f['label'][()]\n",
    "        data = f['data'][()]\n",
    "        test_data = np.append(test_data, data, axis = 0)\n",
    "        test_label = np.append(test_label, index, axis = 0)\n",
    "        \n"
   ]
  },
  {
   "cell_type": "code",
   "execution_count": 55,
   "metadata": {},
   "outputs": [
    {
     "name": "stderr",
     "output_type": "stream",
     "text": [
      "[Parallel(n_jobs=5)]: Using backend ThreadingBackend with 5 concurrent workers.\n",
      "[Parallel(n_jobs=5)]: Done   3 tasks      | elapsed:    0.2s\n",
      "[Parallel(n_jobs=5)]: Done   8 tasks      | elapsed:    0.3s\n",
      "[Parallel(n_jobs=5)]: Done  15 tasks      | elapsed:    0.5s\n",
      "[Parallel(n_jobs=5)]: Done  22 tasks      | elapsed:    0.7s\n",
      "[Parallel(n_jobs=5)]: Done  31 tasks      | elapsed:    1.0s\n",
      "[Parallel(n_jobs=5)]: Done  40 tasks      | elapsed:    1.2s\n",
      "[Parallel(n_jobs=5)]: Done  51 tasks      | elapsed:    1.6s\n",
      "[Parallel(n_jobs=5)]: Done  62 tasks      | elapsed:    1.9s\n",
      "[Parallel(n_jobs=5)]: Done  75 tasks      | elapsed:    2.2s\n",
      "[Parallel(n_jobs=5)]: Done  88 tasks      | elapsed:    2.6s\n",
      "[Parallel(n_jobs=5)]: Done 100 out of 100 | elapsed:    2.9s finished\n",
      "[Parallel(n_jobs=5)]: Using backend ThreadingBackend with 5 concurrent workers.\n",
      "[Parallel(n_jobs=5)]: Done   3 tasks      | elapsed:    0.1s\n",
      "[Parallel(n_jobs=5)]: Done   8 tasks      | elapsed:    0.3s\n",
      "[Parallel(n_jobs=5)]: Done  15 tasks      | elapsed:    0.5s\n",
      "[Parallel(n_jobs=5)]: Done  22 tasks      | elapsed:    0.7s\n",
      "[Parallel(n_jobs=5)]: Done  31 tasks      | elapsed:    0.9s\n",
      "[Parallel(n_jobs=5)]: Done  40 tasks      | elapsed:    1.2s\n",
      "[Parallel(n_jobs=5)]: Done  51 tasks      | elapsed:    1.5s\n",
      "[Parallel(n_jobs=5)]: Done  62 tasks      | elapsed:    1.8s\n",
      "[Parallel(n_jobs=5)]: Done  75 tasks      | elapsed:    2.1s\n",
      "[Parallel(n_jobs=5)]: Done  88 tasks      | elapsed:    2.5s\n",
      "[Parallel(n_jobs=5)]: Done 100 out of 100 | elapsed:    2.8s finished\n",
      "[Parallel(n_jobs=5)]: Using backend ThreadingBackend with 5 concurrent workers.\n",
      "[Parallel(n_jobs=5)]: Done   3 tasks      | elapsed:    0.1s\n",
      "[Parallel(n_jobs=5)]: Done   8 tasks      | elapsed:    0.3s\n",
      "[Parallel(n_jobs=5)]: Done  15 tasks      | elapsed:    0.5s\n",
      "[Parallel(n_jobs=5)]: Done  22 tasks      | elapsed:    0.7s\n",
      "[Parallel(n_jobs=5)]: Done  31 tasks      | elapsed:    0.9s\n",
      "[Parallel(n_jobs=5)]: Done  40 tasks      | elapsed:    1.2s\n",
      "[Parallel(n_jobs=5)]: Done  51 tasks      | elapsed:    1.6s\n",
      "[Parallel(n_jobs=5)]: Done  62 tasks      | elapsed:    1.9s\n",
      "[Parallel(n_jobs=5)]: Done  75 tasks      | elapsed:    2.3s\n",
      "[Parallel(n_jobs=5)]: Done  88 tasks      | elapsed:    2.6s\n"
     ]
    },
    {
     "name": "stdout",
     "output_type": "stream",
     "text": [
      "Mean Acc:  0.9612905797444451\n",
      "Average Recall:  0.9612905797444451\n",
      "Single Class Recall:  [1. 0. 0. 0. 0.]\n"
     ]
    },
    {
     "name": "stderr",
     "output_type": "stream",
     "text": [
      "[Parallel(n_jobs=5)]: Done 100 out of 100 | elapsed:    2.9s finished\n"
     ]
    }
   ],
   "source": [
    "loaded_model = pickle.load(open(MODEL_PATH, 'rb'))\n",
    "\n",
    "acc = loaded_model.score(test_data, test_label)\n",
    "overall_recall = recall_score(test_label, loaded_model.predict(test_data), average='weighted')\n",
    "class_recall = recall_score(test_label, loaded_model.predict(test_data), average=None)\n",
    "\n",
    "print('Mean Acc: ', acc)\n",
    "print('Average Recall: ', overall_recall)\n",
    "print('Single Class Recall: ', class_recall)"
   ]
  },
  {
   "cell_type": "code",
   "execution_count": null,
   "metadata": {},
   "outputs": [],
   "source": []
  }
 ],
 "metadata": {
  "kernelspec": {
   "display_name": "Python 3",
   "language": "python",
   "name": "python3"
  },
  "language_info": {
   "codemirror_mode": {
    "name": "ipython",
    "version": 3
   },
   "file_extension": ".py",
   "mimetype": "text/x-python",
   "name": "python",
   "nbconvert_exporter": "python",
   "pygments_lexer": "ipython3",
   "version": "3.7.4"
  }
 },
 "nbformat": 4,
 "nbformat_minor": 2
}
