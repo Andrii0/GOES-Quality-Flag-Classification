{
 "cells": [
  {
   "cell_type": "code",
   "execution_count": 155,
   "metadata": {},
   "outputs": [],
   "source": [
    "import numpy as np\n",
    "import os\n",
    "import h5py\n",
    "import shutil\n",
    "from bs4 import BeautifulSoup\n",
    "import requests"
   ]
  },
  {
   "cell_type": "code",
   "execution_count": 117,
   "metadata": {},
   "outputs": [],
   "source": [
    "mainpath = '/Users/aleex/DSE/Machine Learning/Project/toyData/'\n",
    "\n",
    "outpath = '/Users/aleex/DSE/Machine Learning/Project/label/'\n",
    "if not os.path.exists(outpath):\n",
    "    os.makedirs(outpath)\n",
    "    "
   ]
  },
  {
   "cell_type": "code",
   "execution_count": 154,
   "metadata": {},
   "outputs": [
    {
     "name": "stdout",
     "output_type": "stream",
     "text": [
      "{'s20192210010': ['/Users/aleex/DSE/Machine Learning/Project/toyData/OR_ABI-L1b-RadF-M6C07_G16_s20192210010548_e20192210020268_c20192210020332.npy', '/Users/aleex/DSE/Machine Learning/Project/toyData/OR_ABI-L1b-RadF-M6C07_G17_s20192210010339_e20192210019417_c20192210019461.npy'], 's20192210000': ['/Users/aleex/DSE/Machine Learning/Project/toyData/OR_ABI-L1b-RadF-M6C07_G16_s20192210000548_e20192210010268_c20192210010328.npy', '/Users/aleex/DSE/Machine Learning/Project/toyData/OR_ABI-L1b-RadF-M6C07_G17_s20192210000339_e20192210009416_c20192210009459.npy']}\n"
     ]
    }
   ],
   "source": [
    "def getUniTime(filename):\n",
    "    splits = filename.split('_')\n",
    "    return splits[-3][:-3]\n",
    "\n",
    "file_dict = {}\n",
    "for root, dirs, files in os.walk(mainpath):\n",
    "    for file in files:\n",
    "        if file.endswith(\".npy\"):\n",
    "            uniTime = getUniTime(file)\n",
    "            if uniTime not in file_dict:\n",
    "                file_dict[uniTime] = []\n",
    "            file_dict[uniTime].append(os.path.join(root, file))\n",
    "                \n",
    "print(file_dict)\n"
   ]
  },
  {
   "cell_type": "code",
   "execution_count": 156,
   "metadata": {},
   "outputs": [],
   "source": [
    "#Takes the urls for GOES16 and GOES17 from the same time\n",
    "def genLabel(goes16, goes17):\n",
    "    #goes16 = np.load(goes16)\n",
    "    #goes17 = np.load(goes17)\n",
    "\n",
    "    n1 = len(goes16)*len(goes16[0])\n",
    "    n2 = len(goes17)*len(goes17[0])\n",
    "\n",
    "    std1 = np.std(goes16)\n",
    "    std2 = np.std(goes17)\n",
    "\n",
    "    diff = goes16 - goes17\n",
    "    diff_std = np.std(diff)\n",
    "\n",
    "    #joint_std = np.sqrt(std1**2/n1 + std2**2/n2)\n",
    "    delta = abs(goes16 - goes17)\n",
    "    label = delta//diff_std\n",
    "    label = label.astype(int)\n",
    "    \n",
    "    return label\n"
   ]
  },
  {
   "cell_type": "code",
   "execution_count": 152,
   "metadata": {},
   "outputs": [],
   "source": [
    "#Outputs the data of G17 and the generated label in HDF5\n",
    "def writeH5(data, label, uniTime):\n",
    "    coords = np.array(data).astype(np.float)\n",
    "    shape = coords.shape\n",
    "    hdf5_path = outpath + uniTime + '.h5'\n",
    "    with h5py.File(hdf5_path, mode='w') as f:\n",
    "        d = f.create_dataset('/data', data = coords)\n",
    "        l = f.create_dataset('/label', data = label)\n",
    "        "
   ]
  },
  {
   "cell_type": "code",
   "execution_count": 151,
   "metadata": {},
   "outputs": [
    {
     "name": "stdout",
     "output_type": "stream",
     "text": [
      "['/Users/aleex/DSE/Machine Learning/Project/toyData/OR_ABI-L1b-RadF-M6C07_G16_s20192210000548_e20192210010268_c20192210010328.npy', '/Users/aleex/DSE/Machine Learning/Project/toyData/OR_ABI-L1b-RadF-M6C07_G17_s20192210000339_e20192210009416_c20192210009459.npy']\n"
     ]
    }
   ],
   "source": [
    "for key in file_dict:\n",
    "    pair = file_dict[key]\n",
    "    if len(pair) == 2:\n",
    "        print(pair)\n",
    "        labels = genLabel(pair[0], pair[1])\n",
    "        writeH5(np.load(pair[1]), labels, key)"
   ]
  },
  {
   "cell_type": "code",
   "execution_count": 68,
   "metadata": {},
   "outputs": [],
   "source": [
    "#out = outpath + 'label1.txt'\n",
    "#np.savetxt(out, label, fmt='%10.f')"
   ]
  },
  {
   "cell_type": "code",
   "execution_count": 77,
   "metadata": {},
   "outputs": [
    {
     "data": {
      "text/plain": [
       "'\\ndef scrapeURL(rootURL):\\n    page = requests.get(rootURL).text\\n    soup = BeautifulSoup(page, \\'html.parser\\')\\n\\n    url_table = soup.find(\\'table\\', {\"class\" : \"table tree-table\"})\\n    urls = []\\n\\n    for row in url_table.find_all(\\'tr\\'):\\n        cols = row.find_all(\\'td\\')\\n        if len(cols) == 2:\\n            urls.append(cols[1].text.strip())\\n    return urls'"
      ]
     },
     "execution_count": 77,
     "metadata": {},
     "output_type": "execute_result"
    }
   ],
   "source": [
    "'''\n",
    "def scrapeURL(rootURL):\n",
    "    page = requests.get(rootURL).text\n",
    "    soup = BeautifulSoup(page, 'html.parser')\n",
    "\n",
    "    url_table = soup.find('table', {\"class\" : \"table tree-table\"})\n",
    "    urls = []\n",
    "\n",
    "    for row in url_table.find_all('tr'):\n",
    "        cols = row.find_all('td')\n",
    "        if len(cols) == 2:\n",
    "            urls.append(cols[1].text.strip())\n",
    "    return urls'''"
   ]
  },
  {
   "cell_type": "code",
   "execution_count": 76,
   "metadata": {},
   "outputs": [
    {
     "data": {
      "text/plain": [
       "'from bs4 import BeautifulSoup\\nimport requests\\n\\n#URL = \\'https://github.com/adomakor412/GOES-Quality-Flag-Classification/blob/master/G16_G17_url_list/G16_data_08_09-19.txt\\'\\ngoes16_urls = []\\ngoes17_urls = []\\nfor s in range(16,18):\\n    SS = str(s).zfill(2)\\n    for d in range(221, 238):#the website for particular day\\n        DDD = str(d)\\n        rootURL = f\"https://gitlab.com/adomakor412/goesdata/-/blob/master/fall_npy/{DDD}/\"\\n        scraped_urls = scrapeURL(rootURL)\\n        if SS == \\'16\\':\\n            goes16_urls += scraped_urls\\n        else:\\n            goes17_urls += scraped_urls\\nprint(len(goes16_urls))\\nprint(len(goes17_urls))'"
      ]
     },
     "execution_count": 76,
     "metadata": {},
     "output_type": "execute_result"
    }
   ],
   "source": [
    "'''\n",
    "\n",
    "#URL = 'https://github.com/adomakor412/GOES-Quality-Flag-Classification/blob/master/G16_G17_url_list/G16_data_08_09-19.txt'\n",
    "goes16_urls = []\n",
    "goes17_urls = []\n",
    "for s in range(16,18):\n",
    "    SS = str(s).zfill(2)\n",
    "    for d in range(221, 238):#the website for particular day\n",
    "        DDD = str(d)\n",
    "        rootURL = f\"https://gitlab.com/adomakor412/goesdata/-/blob/master/fall_npy/{DDD}/\"\n",
    "        scraped_urls = scrapeURL(rootURL)\n",
    "        if SS == '16':\n",
    "            goes16_urls += scraped_urls\n",
    "        else:\n",
    "            goes17_urls += scraped_urls\n",
    "print(len(goes16_urls))\n",
    "print(len(goes17_urls))'''"
   ]
  },
  {
   "cell_type": "code",
   "execution_count": 71,
   "metadata": {},
   "outputs": [],
   "source": [
    "'''rootURL = \"https://gitlab.com/adomakor412/goesdata/-/blob/master/fall_npy/221/\"\n",
    "\n",
    "def listurls(prefix,html):\n",
    "    soup = BeautifulSoup(html.text)\n",
    "    urllist = [elt['href'] for elt in soup.find_all(href=re.compile(prefix))]\n",
    "    return urllist'''"
   ]
  },
  {
   "cell_type": "code",
   "execution_count": 72,
   "metadata": {},
   "outputs": [
    {
     "ename": "NameError",
     "evalue": "name 'hh' is not defined",
     "output_type": "error",
     "traceback": [
      "\u001b[0;31m---------------------------------------------------------------------------\u001b[0m",
      "\u001b[0;31mNameError\u001b[0m                                 Traceback (most recent call last)",
      "\u001b[0;32m<ipython-input-72-6ecca6a94781>\u001b[0m in \u001b[0;36m<module>\u001b[0;34m\u001b[0m\n\u001b[1;32m     14\u001b[0m             \u001b[0;32mfor\u001b[0m \u001b[0mt\u001b[0m \u001b[0;32min\u001b[0m \u001b[0mrange\u001b[0m\u001b[0;34m(\u001b[0m\u001b[0;36m2\u001b[0m\u001b[0;34m)\u001b[0m\u001b[0;34m:\u001b[0m\u001b[0;31m#this is for the hour\u001b[0m\u001b[0;34m\u001b[0m\u001b[0;34m\u001b[0m\u001b[0m\n\u001b[1;32m     15\u001b[0m                 \u001b[0mhr\u001b[0m \u001b[0;34m=\u001b[0m \u001b[0mstr\u001b[0m\u001b[0;34m(\u001b[0m\u001b[0mt\u001b[0m\u001b[0;34m)\u001b[0m\u001b[0;34m.\u001b[0m\u001b[0mzfill\u001b[0m\u001b[0;34m(\u001b[0m\u001b[0;36m2\u001b[0m\u001b[0;34m)\u001b[0m\u001b[0;34m\u001b[0m\u001b[0;34m\u001b[0m\u001b[0m\n\u001b[0;32m---> 16\u001b[0;31m                 \u001b[0mtemplate\u001b[0m \u001b[0;34m=\u001b[0m \u001b[0;34mf\"https://gitlab.com/adomakor412/goesdata/-/blob/master/fall_npy/{DDD}/OR_ABI-L1b-RadF-M6C07_G{SS}_s2019{DDD}{hh}{mm}\"\u001b[0m\u001b[0;34m\u001b[0m\u001b[0;34m\u001b[0m\u001b[0m\n\u001b[0m\u001b[1;32m     17\u001b[0m \u001b[0;34m\u001b[0m\u001b[0m\n\u001b[1;32m     18\u001b[0m                 \u001b[0mprint\u001b[0m\u001b[0;34m(\u001b[0m\u001b[0mtemplate\u001b[0m\u001b[0;34m)\u001b[0m\u001b[0;34m\u001b[0m\u001b[0;34m\u001b[0m\u001b[0m\n",
      "\u001b[0;31mNameError\u001b[0m: name 'hh' is not defined"
     ]
    }
   ],
   "source": [
    "'''\n",
    "for s in range(16,18):\n",
    "    SS = str(s).zfill(2)\n",
    "    for i in range(221,238):#the website for particular day   \n",
    "        if i < 244:\n",
    "            mm = '08'\n",
    "            DD = str(31-(243-i)).zfill(2)\n",
    "        else:\n",
    "            mm ='09'\n",
    "            DD = str(i-243).zfill(2)\n",
    "        dd = str(i).zfill(2)\n",
    "        filename = f\"G{SS}_data_{mm}_{dd}-19.txt\"\n",
    "        filename.format(**{'SS':SS,'mm':mm,'dd':dd})\n",
    "        with open(filename,'w') as f:\n",
    "            for t in range(2):#this is for the hour\n",
    "                hr = str(t).zfill(2)\n",
    "                template = f\"https://gitlab.com/adomakor412/goesdata/-/blob/master/fall_npy/{DDD}/OR_ABI-L1b-RadF-M6C07_G{SS}_s2019{DDD}{hh}{mm}\"\n",
    "\n",
    "                print(template)\n",
    "                req = requests.get(template)\n",
    "                print(req)\n",
    "                for band in range(8):\n",
    "                    prefix = \"OR_ABI-L1b-RadF-M6C\" + str(band).zfill(2)\n",
    "                    bandURLList = listurls(prefix,req)\n",
    "                    print(bandURLList)\n",
    "                    print(*bandURLList,sep='\\n', file=f)'''"
   ]
  },
  {
   "cell_type": "code",
   "execution_count": 182,
   "metadata": {},
   "outputs": [
    {
     "name": "stdout",
     "output_type": "stream",
     "text": [
      "https://gitlab.com/adomakor412/goesdata/-/raw/master/fall_npy/221/OR_ABI-L1b-RadF-M6C07_G16_s20192210000\n",
      "https://gitlab.com/adomakor412/goesdata/-/raw/master/fall_npy/221/OR_ABI-L1b-RadF-M6C07_G16_s20192210010\n",
      "https://gitlab.com/adomakor412/goesdata/-/raw/master/fall_npy/221/OR_ABI-L1b-RadF-M6C07_G16_s20192210020\n",
      "https://gitlab.com/adomakor412/goesdata/-/raw/master/fall_npy/221/OR_ABI-L1b-RadF-M6C07_G16_s20192210030\n",
      "https://gitlab.com/adomakor412/goesdata/-/raw/master/fall_npy/221/OR_ABI-L1b-RadF-M6C07_G16_s20192210040\n",
      "https://gitlab.com/adomakor412/goesdata/-/raw/master/fall_npy/221/OR_ABI-L1b-RadF-M6C07_G16_s20192210050\n",
      "https://gitlab.com/adomakor412/goesdata/-/raw/master/fall_npy/221/OR_ABI-L1b-RadF-M6C07_G16_s20192210100\n",
      "https://gitlab.com/adomakor412/goesdata/-/raw/master/fall_npy/221/OR_ABI-L1b-RadF-M6C07_G16_s20192210110\n"
     ]
    },
    {
     "ename": "KeyboardInterrupt",
     "evalue": "",
     "output_type": "error",
     "traceback": [
      "\u001b[0;31m---------------------------------------------------------------------------\u001b[0m",
      "\u001b[0;31mKeyboardInterrupt\u001b[0m                         Traceback (most recent call last)",
      "\u001b[0;32m<ipython-input-182-ec58d9aa930e>\u001b[0m in \u001b[0;36m<module>\u001b[0;34m\u001b[0m\n\u001b[1;32m     28\u001b[0m                 \u001b[0mprint\u001b[0m\u001b[0;34m(\u001b[0m\u001b[0mgoes16_url\u001b[0m\u001b[0;34m)\u001b[0m\u001b[0;34m\u001b[0m\u001b[0;34m\u001b[0m\u001b[0m\n\u001b[1;32m     29\u001b[0m                 \u001b[0;32mwith\u001b[0m \u001b[0mopen\u001b[0m\u001b[0;34m(\u001b[0m\u001b[0;34m'temp16.npy'\u001b[0m\u001b[0;34m,\u001b[0m \u001b[0;34m'wb'\u001b[0m\u001b[0;34m)\u001b[0m \u001b[0;32mas\u001b[0m \u001b[0mtemp16\u001b[0m\u001b[0;34m:\u001b[0m\u001b[0;34m\u001b[0m\u001b[0;34m\u001b[0m\u001b[0m\n\u001b[0;32m---> 30\u001b[0;31m                     \u001b[0mshutil\u001b[0m\u001b[0;34m.\u001b[0m\u001b[0mcopyfileobj\u001b[0m\u001b[0;34m(\u001b[0m\u001b[0mresponse16\u001b[0m\u001b[0;34m.\u001b[0m\u001b[0mraw\u001b[0m\u001b[0;34m,\u001b[0m \u001b[0mtemp16\u001b[0m\u001b[0;34m)\u001b[0m\u001b[0;34m\u001b[0m\u001b[0;34m\u001b[0m\u001b[0m\n\u001b[0m\u001b[1;32m     31\u001b[0m                     \u001b[0;31m#data16 = np.load('temp16.npy')\u001b[0m\u001b[0;34m\u001b[0m\u001b[0;34m\u001b[0m\u001b[0;34m\u001b[0m\u001b[0m\n\u001b[1;32m     32\u001b[0m                 \u001b[0;32mwith\u001b[0m \u001b[0mopen\u001b[0m\u001b[0;34m(\u001b[0m\u001b[0;34m'temp17.npy'\u001b[0m\u001b[0;34m,\u001b[0m \u001b[0;34m'wb'\u001b[0m\u001b[0;34m)\u001b[0m \u001b[0;32mas\u001b[0m \u001b[0mtemp17\u001b[0m\u001b[0;34m:\u001b[0m\u001b[0;34m\u001b[0m\u001b[0;34m\u001b[0m\u001b[0m\n",
      "\u001b[0;32m~/opt/anaconda3/lib/python3.7/shutil.py\u001b[0m in \u001b[0;36mcopyfileobj\u001b[0;34m(fsrc, fdst, length)\u001b[0m\n\u001b[1;32m     77\u001b[0m     \u001b[0;34m\"\"\"copy data from file-like object fsrc to file-like object fdst\"\"\"\u001b[0m\u001b[0;34m\u001b[0m\u001b[0;34m\u001b[0m\u001b[0m\n\u001b[1;32m     78\u001b[0m     \u001b[0;32mwhile\u001b[0m \u001b[0;36m1\u001b[0m\u001b[0;34m:\u001b[0m\u001b[0;34m\u001b[0m\u001b[0;34m\u001b[0m\u001b[0m\n\u001b[0;32m---> 79\u001b[0;31m         \u001b[0mbuf\u001b[0m \u001b[0;34m=\u001b[0m \u001b[0mfsrc\u001b[0m\u001b[0;34m.\u001b[0m\u001b[0mread\u001b[0m\u001b[0;34m(\u001b[0m\u001b[0mlength\u001b[0m\u001b[0;34m)\u001b[0m\u001b[0;34m\u001b[0m\u001b[0;34m\u001b[0m\u001b[0m\n\u001b[0m\u001b[1;32m     80\u001b[0m         \u001b[0;32mif\u001b[0m \u001b[0;32mnot\u001b[0m \u001b[0mbuf\u001b[0m\u001b[0;34m:\u001b[0m\u001b[0;34m\u001b[0m\u001b[0;34m\u001b[0m\u001b[0m\n\u001b[1;32m     81\u001b[0m             \u001b[0;32mbreak\u001b[0m\u001b[0;34m\u001b[0m\u001b[0;34m\u001b[0m\u001b[0m\n",
      "\u001b[0;32m~/opt/anaconda3/lib/python3.7/site-packages/urllib3/response.py\u001b[0m in \u001b[0;36mread\u001b[0;34m(self, amt, decode_content, cache_content)\u001b[0m\n\u001b[1;32m    440\u001b[0m             \u001b[0;32melse\u001b[0m\u001b[0;34m:\u001b[0m\u001b[0;34m\u001b[0m\u001b[0;34m\u001b[0m\u001b[0m\n\u001b[1;32m    441\u001b[0m                 \u001b[0mcache_content\u001b[0m \u001b[0;34m=\u001b[0m \u001b[0;32mFalse\u001b[0m\u001b[0;34m\u001b[0m\u001b[0;34m\u001b[0m\u001b[0m\n\u001b[0;32m--> 442\u001b[0;31m                 \u001b[0mdata\u001b[0m \u001b[0;34m=\u001b[0m \u001b[0mself\u001b[0m\u001b[0;34m.\u001b[0m\u001b[0m_fp\u001b[0m\u001b[0;34m.\u001b[0m\u001b[0mread\u001b[0m\u001b[0;34m(\u001b[0m\u001b[0mamt\u001b[0m\u001b[0;34m)\u001b[0m\u001b[0;34m\u001b[0m\u001b[0;34m\u001b[0m\u001b[0m\n\u001b[0m\u001b[1;32m    443\u001b[0m                 \u001b[0;32mif\u001b[0m \u001b[0mamt\u001b[0m \u001b[0;34m!=\u001b[0m \u001b[0;36m0\u001b[0m \u001b[0;32mand\u001b[0m \u001b[0;32mnot\u001b[0m \u001b[0mdata\u001b[0m\u001b[0;34m:\u001b[0m  \u001b[0;31m# Platform-specific: Buggy versions of Python.\u001b[0m\u001b[0;34m\u001b[0m\u001b[0;34m\u001b[0m\u001b[0m\n\u001b[1;32m    444\u001b[0m                     \u001b[0;31m# Close the connection when no data is returned\u001b[0m\u001b[0;34m\u001b[0m\u001b[0;34m\u001b[0m\u001b[0;34m\u001b[0m\u001b[0m\n",
      "\u001b[0;32m~/opt/anaconda3/lib/python3.7/http/client.py\u001b[0m in \u001b[0;36mread\u001b[0;34m(self, amt)\u001b[0m\n\u001b[1;32m    455\u001b[0m             \u001b[0;31m# Amount is given, implement using readinto\u001b[0m\u001b[0;34m\u001b[0m\u001b[0;34m\u001b[0m\u001b[0;34m\u001b[0m\u001b[0m\n\u001b[1;32m    456\u001b[0m             \u001b[0mb\u001b[0m \u001b[0;34m=\u001b[0m \u001b[0mbytearray\u001b[0m\u001b[0;34m(\u001b[0m\u001b[0mamt\u001b[0m\u001b[0;34m)\u001b[0m\u001b[0;34m\u001b[0m\u001b[0;34m\u001b[0m\u001b[0m\n\u001b[0;32m--> 457\u001b[0;31m             \u001b[0mn\u001b[0m \u001b[0;34m=\u001b[0m \u001b[0mself\u001b[0m\u001b[0;34m.\u001b[0m\u001b[0mreadinto\u001b[0m\u001b[0;34m(\u001b[0m\u001b[0mb\u001b[0m\u001b[0;34m)\u001b[0m\u001b[0;34m\u001b[0m\u001b[0;34m\u001b[0m\u001b[0m\n\u001b[0m\u001b[1;32m    458\u001b[0m             \u001b[0;32mreturn\u001b[0m \u001b[0mmemoryview\u001b[0m\u001b[0;34m(\u001b[0m\u001b[0mb\u001b[0m\u001b[0;34m)\u001b[0m\u001b[0;34m[\u001b[0m\u001b[0;34m:\u001b[0m\u001b[0mn\u001b[0m\u001b[0;34m]\u001b[0m\u001b[0;34m.\u001b[0m\u001b[0mtobytes\u001b[0m\u001b[0;34m(\u001b[0m\u001b[0;34m)\u001b[0m\u001b[0;34m\u001b[0m\u001b[0;34m\u001b[0m\u001b[0m\n\u001b[1;32m    459\u001b[0m         \u001b[0;32melse\u001b[0m\u001b[0;34m:\u001b[0m\u001b[0;34m\u001b[0m\u001b[0;34m\u001b[0m\u001b[0m\n",
      "\u001b[0;32m~/opt/anaconda3/lib/python3.7/http/client.py\u001b[0m in \u001b[0;36mreadinto\u001b[0;34m(self, b)\u001b[0m\n\u001b[1;32m    499\u001b[0m         \u001b[0;31m# connection, and the user is reading more bytes than will be provided\u001b[0m\u001b[0;34m\u001b[0m\u001b[0;34m\u001b[0m\u001b[0;34m\u001b[0m\u001b[0m\n\u001b[1;32m    500\u001b[0m         \u001b[0;31m# (for example, reading in 1k chunks)\u001b[0m\u001b[0;34m\u001b[0m\u001b[0;34m\u001b[0m\u001b[0;34m\u001b[0m\u001b[0m\n\u001b[0;32m--> 501\u001b[0;31m         \u001b[0mn\u001b[0m \u001b[0;34m=\u001b[0m \u001b[0mself\u001b[0m\u001b[0;34m.\u001b[0m\u001b[0mfp\u001b[0m\u001b[0;34m.\u001b[0m\u001b[0mreadinto\u001b[0m\u001b[0;34m(\u001b[0m\u001b[0mb\u001b[0m\u001b[0;34m)\u001b[0m\u001b[0;34m\u001b[0m\u001b[0;34m\u001b[0m\u001b[0m\n\u001b[0m\u001b[1;32m    502\u001b[0m         \u001b[0;32mif\u001b[0m \u001b[0;32mnot\u001b[0m \u001b[0mn\u001b[0m \u001b[0;32mand\u001b[0m \u001b[0mb\u001b[0m\u001b[0;34m:\u001b[0m\u001b[0;34m\u001b[0m\u001b[0;34m\u001b[0m\u001b[0m\n\u001b[1;32m    503\u001b[0m             \u001b[0;31m# Ideally, we would raise IncompleteRead if the content-length\u001b[0m\u001b[0;34m\u001b[0m\u001b[0;34m\u001b[0m\u001b[0;34m\u001b[0m\u001b[0m\n",
      "\u001b[0;32m~/opt/anaconda3/lib/python3.7/socket.py\u001b[0m in \u001b[0;36mreadinto\u001b[0;34m(self, b)\u001b[0m\n\u001b[1;32m    587\u001b[0m         \u001b[0;32mwhile\u001b[0m \u001b[0;32mTrue\u001b[0m\u001b[0;34m:\u001b[0m\u001b[0;34m\u001b[0m\u001b[0;34m\u001b[0m\u001b[0m\n\u001b[1;32m    588\u001b[0m             \u001b[0;32mtry\u001b[0m\u001b[0;34m:\u001b[0m\u001b[0;34m\u001b[0m\u001b[0;34m\u001b[0m\u001b[0m\n\u001b[0;32m--> 589\u001b[0;31m                 \u001b[0;32mreturn\u001b[0m \u001b[0mself\u001b[0m\u001b[0;34m.\u001b[0m\u001b[0m_sock\u001b[0m\u001b[0;34m.\u001b[0m\u001b[0mrecv_into\u001b[0m\u001b[0;34m(\u001b[0m\u001b[0mb\u001b[0m\u001b[0;34m)\u001b[0m\u001b[0;34m\u001b[0m\u001b[0;34m\u001b[0m\u001b[0m\n\u001b[0m\u001b[1;32m    590\u001b[0m             \u001b[0;32mexcept\u001b[0m \u001b[0mtimeout\u001b[0m\u001b[0;34m:\u001b[0m\u001b[0;34m\u001b[0m\u001b[0;34m\u001b[0m\u001b[0m\n\u001b[1;32m    591\u001b[0m                 \u001b[0mself\u001b[0m\u001b[0;34m.\u001b[0m\u001b[0m_timeout_occurred\u001b[0m \u001b[0;34m=\u001b[0m \u001b[0;32mTrue\u001b[0m\u001b[0;34m\u001b[0m\u001b[0;34m\u001b[0m\u001b[0m\n",
      "\u001b[0;32m~/opt/anaconda3/lib/python3.7/site-packages/urllib3/contrib/pyopenssl.py\u001b[0m in \u001b[0;36mrecv_into\u001b[0;34m(self, *args, **kwargs)\u001b[0m\n\u001b[1;32m    295\u001b[0m     \u001b[0;32mdef\u001b[0m \u001b[0mrecv_into\u001b[0m\u001b[0;34m(\u001b[0m\u001b[0mself\u001b[0m\u001b[0;34m,\u001b[0m \u001b[0;34m*\u001b[0m\u001b[0margs\u001b[0m\u001b[0;34m,\u001b[0m \u001b[0;34m**\u001b[0m\u001b[0mkwargs\u001b[0m\u001b[0;34m)\u001b[0m\u001b[0;34m:\u001b[0m\u001b[0;34m\u001b[0m\u001b[0;34m\u001b[0m\u001b[0m\n\u001b[1;32m    296\u001b[0m         \u001b[0;32mtry\u001b[0m\u001b[0;34m:\u001b[0m\u001b[0;34m\u001b[0m\u001b[0;34m\u001b[0m\u001b[0m\n\u001b[0;32m--> 297\u001b[0;31m             \u001b[0;32mreturn\u001b[0m \u001b[0mself\u001b[0m\u001b[0;34m.\u001b[0m\u001b[0mconnection\u001b[0m\u001b[0;34m.\u001b[0m\u001b[0mrecv_into\u001b[0m\u001b[0;34m(\u001b[0m\u001b[0;34m*\u001b[0m\u001b[0margs\u001b[0m\u001b[0;34m,\u001b[0m \u001b[0;34m**\u001b[0m\u001b[0mkwargs\u001b[0m\u001b[0;34m)\u001b[0m\u001b[0;34m\u001b[0m\u001b[0;34m\u001b[0m\u001b[0m\n\u001b[0m\u001b[1;32m    298\u001b[0m         \u001b[0;32mexcept\u001b[0m \u001b[0mOpenSSL\u001b[0m\u001b[0;34m.\u001b[0m\u001b[0mSSL\u001b[0m\u001b[0;34m.\u001b[0m\u001b[0mSysCallError\u001b[0m \u001b[0;32mas\u001b[0m \u001b[0me\u001b[0m\u001b[0;34m:\u001b[0m\u001b[0;34m\u001b[0m\u001b[0;34m\u001b[0m\u001b[0m\n\u001b[1;32m    299\u001b[0m             \u001b[0;32mif\u001b[0m \u001b[0mself\u001b[0m\u001b[0;34m.\u001b[0m\u001b[0msuppress_ragged_eofs\u001b[0m \u001b[0;32mand\u001b[0m \u001b[0me\u001b[0m\u001b[0;34m.\u001b[0m\u001b[0margs\u001b[0m \u001b[0;34m==\u001b[0m \u001b[0;34m(\u001b[0m\u001b[0;34m-\u001b[0m\u001b[0;36m1\u001b[0m\u001b[0;34m,\u001b[0m \u001b[0;34m'Unexpected EOF'\u001b[0m\u001b[0;34m)\u001b[0m\u001b[0;34m:\u001b[0m\u001b[0;34m\u001b[0m\u001b[0;34m\u001b[0m\u001b[0m\n",
      "\u001b[0;32m~/opt/anaconda3/lib/python3.7/site-packages/OpenSSL/SSL.py\u001b[0m in \u001b[0;36mrecv_into\u001b[0;34m(self, buffer, nbytes, flags)\u001b[0m\n\u001b[1;32m   1819\u001b[0m             \u001b[0mresult\u001b[0m \u001b[0;34m=\u001b[0m \u001b[0m_lib\u001b[0m\u001b[0;34m.\u001b[0m\u001b[0mSSL_peek\u001b[0m\u001b[0;34m(\u001b[0m\u001b[0mself\u001b[0m\u001b[0;34m.\u001b[0m\u001b[0m_ssl\u001b[0m\u001b[0;34m,\u001b[0m \u001b[0mbuf\u001b[0m\u001b[0;34m,\u001b[0m \u001b[0mnbytes\u001b[0m\u001b[0;34m)\u001b[0m\u001b[0;34m\u001b[0m\u001b[0;34m\u001b[0m\u001b[0m\n\u001b[1;32m   1820\u001b[0m         \u001b[0;32melse\u001b[0m\u001b[0;34m:\u001b[0m\u001b[0;34m\u001b[0m\u001b[0;34m\u001b[0m\u001b[0m\n\u001b[0;32m-> 1821\u001b[0;31m             \u001b[0mresult\u001b[0m \u001b[0;34m=\u001b[0m \u001b[0m_lib\u001b[0m\u001b[0;34m.\u001b[0m\u001b[0mSSL_read\u001b[0m\u001b[0;34m(\u001b[0m\u001b[0mself\u001b[0m\u001b[0;34m.\u001b[0m\u001b[0m_ssl\u001b[0m\u001b[0;34m,\u001b[0m \u001b[0mbuf\u001b[0m\u001b[0;34m,\u001b[0m \u001b[0mnbytes\u001b[0m\u001b[0;34m)\u001b[0m\u001b[0;34m\u001b[0m\u001b[0;34m\u001b[0m\u001b[0m\n\u001b[0m\u001b[1;32m   1822\u001b[0m         \u001b[0mself\u001b[0m\u001b[0;34m.\u001b[0m\u001b[0m_raise_ssl_error\u001b[0m\u001b[0;34m(\u001b[0m\u001b[0mself\u001b[0m\u001b[0;34m.\u001b[0m\u001b[0m_ssl\u001b[0m\u001b[0;34m,\u001b[0m \u001b[0mresult\u001b[0m\u001b[0;34m)\u001b[0m\u001b[0;34m\u001b[0m\u001b[0;34m\u001b[0m\u001b[0m\n\u001b[1;32m   1823\u001b[0m \u001b[0;34m\u001b[0m\u001b[0m\n",
      "\u001b[0;31mKeyboardInterrupt\u001b[0m: "
     ]
    }
   ],
   "source": [
    "rootURL = \"https://gitlab.com/adomakor412/goesdata/-/raw/master/fall_npy/\"\n",
    "for idx in range(221, 238):\n",
    "    for band in range(7, 9):\n",
    "        for h in range(0, 24):\n",
    "            for m in range(0, 6):\n",
    "                '''goes16_extent = str(idx) \n",
    "                                + '/OR_ABI-L1b-RadF-M6C'\n",
    "                                + str(band).zfill(2)\n",
    "                                +'_G16_s2019' \n",
    "                                + str(idx) \n",
    "                                + str(h).zfill(2) \n",
    "                                + str(m).zfill(2)\n",
    "\n",
    "                goes17_extent = str(idx) \n",
    "                                + '/OR_ABI-L1b-RadF-M6C'\n",
    "                                + str(band).zfill(2)\n",
    "                                +'_G17_s2019' \n",
    "                                + str(idx) \n",
    "                                + str(h).zfill(2) \n",
    "                                + str(m*10).zfill(2)'''\n",
    "                timeID = f\"s2019{str(idx)}{str(h).zfill(2)}{str(m*10).zfill(2)}\"\n",
    "                goes16_url = rootURL + f\"{str(idx)}/OR_ABI-L1b-RadF-M6C{str(band).zfill(2)}_G16_{timeID}\"\n",
    "                goes17_url = rootURL + f\"{str(idx)}/OR_ABI-L1b-RadF-M6C{str(band).zfill(2)}_G17_{timeID}\"\n",
    "                try:\n",
    "                    response16 = requests.get(goes16_url, stream=True)\n",
    "                    response17 = requests.get(goes17_url, stream=True)\n",
    "                    print(timeID)\n",
    "                    with open('temp16.npy', 'wb') as temp16:\n",
    "                        shutil.copyfileobj(response16.raw, temp16)\n",
    "                    with open('temp17.npy', 'wb') as temp17:\n",
    "                        shutil.copyfileobj(response17.raw, temp17)\n",
    "                    data16 = np.load('temp16.npy')\n",
    "                    data17 = np.load('temp17.npy')\n",
    "                    labels = genLabel(data16, data17)\n",
    "                    writeH5(data17, labels, timeID)\n",
    "                except ValueError:\n",
    "                    print(\"url doesn't exist for \" + str(goes16_url))\n",
    "                    \n",
    "            "
   ]
  },
  {
   "cell_type": "code",
   "execution_count": 174,
   "metadata": {},
   "outputs": [],
   "source": [
    "temp = np.load('/Users/aleex/DSE/Machine Learning/Project/temp17.npy')"
   ]
  },
  {
   "cell_type": "code",
   "execution_count": 181,
   "metadata": {},
   "outputs": [
    {
     "name": "stdout",
     "output_type": "stream",
     "text": [
      "[[False False False ... False False False]\n",
      " [False False False ... False False False]\n",
      " [False False False ... False False False]\n",
      " ...\n",
      " [False False False ... False False False]\n",
      " [False False False ... False False False]\n",
      " [False False False ... False False False]]\n"
     ]
    }
   ],
   "source": [
    "print(np.isnan(temp))"
   ]
  },
  {
   "cell_type": "code",
   "execution_count": null,
   "metadata": {},
   "outputs": [],
   "source": []
  },
  {
   "cell_type": "code",
   "execution_count": null,
   "metadata": {},
   "outputs": [],
   "source": []
  }
 ],
 "metadata": {
  "kernelspec": {
   "display_name": "Python 3",
   "language": "python",
   "name": "python3"
  },
  "language_info": {
   "codemirror_mode": {
    "name": "ipython",
    "version": 3
   },
   "file_extension": ".py",
   "mimetype": "text/x-python",
   "name": "python",
   "nbconvert_exporter": "python",
   "pygments_lexer": "ipython3",
   "version": "3.7.4"
  }
 },
 "nbformat": 4,
 "nbformat_minor": 2
}
