{
 "cells": [
  {
   "cell_type": "code",
   "execution_count": 33,
   "metadata": {},
   "outputs": [],
   "source": [
    "import numpy as np\n",
    "from netCDF4 import Dataset\n",
    "import os\n",
    "import re"
   ]
  },
  {
   "cell_type": "code",
   "execution_count": 7,
   "metadata": {},
   "outputs": [],
   "source": [
    "data = Dataset('data/OR_ABI-L1b-RadF-M6C07_G17_s20192210000339_e20192210009416_c20192210009459.nc')"
   ]
  },
  {
   "cell_type": "code",
   "execution_count": 15,
   "metadata": {},
   "outputs": [
    {
     "name": "stdout",
     "output_type": "stream",
     "text": [
      "odict_keys(['Rad', 'DQF', 't', 'y', 'x', 'time_bounds', 'goes_imager_projection', 'y_image', 'y_image_bounds', 'x_image', 'x_image_bounds', 'nominal_satellite_subpoint_lat', 'nominal_satellite_subpoint_lon', 'nominal_satellite_height', 'geospatial_lat_lon_extent', 'yaw_flip_flag', 'band_id', 'band_wavelength', 'esun', 'kappa0', 'planck_fk1', 'planck_fk2', 'planck_bc1', 'planck_bc2', 'valid_pixel_count', 'missing_pixel_count', 'saturated_pixel_count', 'undersaturated_pixel_count', 'focal_plane_temperature_threshold_exceeded_count', 'min_radiance_value_of_valid_pixels', 'max_radiance_value_of_valid_pixels', 'mean_radiance_value_of_valid_pixels', 'std_dev_radiance_value_of_valid_pixels', 'maximum_focal_plane_temperature', 'focal_plane_temperature_threshold_increasing', 'focal_plane_temperature_threshold_decreasing', 'percent_uncorrectable_L0_errors', 'earth_sun_distance_anomaly_in_AU', 'algorithm_dynamic_input_data_container', 'processing_parm_version_container', 'algorithm_product_version_container', 't_star_look', 'band_wavelength_star_look', 'star_id'])\n"
     ]
    }
   ],
   "source": [
    "print(data.variables.keys())"
   ]
  },
  {
   "cell_type": "code",
   "execution_count": 16,
   "metadata": {},
   "outputs": [
    {
     "name": "stdout",
     "output_type": "stream",
     "text": [
      "OrderedDict([('Rad', <class 'netCDF4._netCDF4.Variable'>\n",
      "int16 Rad(y, x)\n",
      "    _FillValue: 16383\n",
      "    long_name: ABI L1b Radiances\n",
      "    standard_name: toa_outgoing_radiance_per_unit_wavenumber\n",
      "    _Unsigned: true\n",
      "    sensor_band_bit_depth: 14\n",
      "    valid_range: [    0 16382]\n",
      "    scale_factor: 0.001564351\n",
      "    add_offset: -0.0376\n",
      "    units: mW m-2 sr-1 (cm-1)-1\n",
      "    resolution: y: 0.000056 rad x: 0.000056 rad\n",
      "    coordinates: band_id band_wavelength t y x\n",
      "    grid_mapping: goes_imager_projection\n",
      "    cell_methods: t: point area: point\n",
      "    ancillary_variables: DQF\n",
      "unlimited dimensions: \n",
      "current shape = (5424, 5424)\n",
      "filling on), ('DQF', <class 'netCDF4._netCDF4.Variable'>\n",
      "int8 DQF(y, x)\n",
      "    _FillValue: -1\n",
      "    long_name: ABI L1b Radiances data quality flags\n",
      "    standard_name: status_flag\n",
      "    _Unsigned: true\n",
      "    valid_range: [0 4]\n",
      "    units: 1\n",
      "    coordinates: band_id band_wavelength t y x\n",
      "    grid_mapping: goes_imager_projection\n",
      "    cell_methods: t: point area: point\n",
      "    flag_values: [0 1 2 3 4]\n",
      "    flag_meanings: good_pixel_qf conditionally_usable_pixel_qf out_of_range_pixel_qf no_value_pixel_qf focal_plane_temperature_threshold_exceeded_qf\n",
      "    number_of_qf_values: 5\n",
      "    percent_good_pixel_qf: 0.9999979\n",
      "    percent_conditionally_usable_pixel_qf: 0.0\n",
      "    percent_out_of_range_pixel_qf: 5e-07\n",
      "    percent_no_value_pixel_qf: 1.6e-06\n",
      "    percent_focal_plane_temperature_threshold_exceeded_qf: 0.0\n",
      "unlimited dimensions: \n",
      "current shape = (5424, 5424)\n",
      "filling on), ('t', <class 'netCDF4._netCDF4.Variable'>\n",
      "float64 t()\n",
      "    long_name: J2000 epoch mid-point between the start and end image scan in seconds\n",
      "    standard_name: time\n",
      "    units: seconds since 2000-01-01 12:00:00\n",
      "    axis: T\n",
      "    bounds: time_bounds\n",
      "unlimited dimensions: \n",
      "current shape = ()\n",
      "filling on, default _FillValue of 9.969209968386869e+36 used\n",
      "), ('y', <class 'netCDF4._netCDF4.Variable'>\n",
      "int16 y(y)\n",
      "    scale_factor: -5.6e-05\n",
      "    add_offset: 0.151844\n",
      "    units: rad\n",
      "    axis: Y\n",
      "    long_name: GOES fixed grid projection y-coordinate\n",
      "    standard_name: projection_y_coordinate\n",
      "unlimited dimensions: \n",
      "current shape = (5424,)\n",
      "filling on, default _FillValue of -32767 used\n",
      "), ('x', <class 'netCDF4._netCDF4.Variable'>\n",
      "int16 x(x)\n",
      "    scale_factor: 5.6e-05\n",
      "    add_offset: -0.151844\n",
      "    units: rad\n",
      "    axis: X\n",
      "    long_name: GOES fixed grid projection x-coordinate\n",
      "    standard_name: projection_x_coordinate\n",
      "unlimited dimensions: \n",
      "current shape = (5424,)\n",
      "filling on, default _FillValue of -32767 used\n",
      "), ('time_bounds', <class 'netCDF4._netCDF4.Variable'>\n",
      "float64 time_bounds(number_of_time_bounds)\n",
      "    long_name: Scan start and end times in seconds since epoch (2000-01-01 12:00:00)\n",
      "unlimited dimensions: \n",
      "current shape = (2,)\n",
      "filling on, default _FillValue of 9.969209968386869e+36 used\n",
      "), ('goes_imager_projection', <class 'netCDF4._netCDF4.Variable'>\n",
      "int32 goes_imager_projection()\n",
      "    long_name: GOES-R ABI fixed grid projection\n",
      "    grid_mapping_name: geostationary\n",
      "    perspective_point_height: 35786023.0\n",
      "    semi_major_axis: 6378137.0\n",
      "    semi_minor_axis: 6356752.31414\n",
      "    inverse_flattening: 298.2572221\n",
      "    latitude_of_projection_origin: 0.0\n",
      "    longitude_of_projection_origin: -137.0\n",
      "    sweep_angle_axis: x\n",
      "unlimited dimensions: \n",
      "current shape = ()\n",
      "filling on, default _FillValue of -2147483647 used\n",
      "), ('y_image', <class 'netCDF4._netCDF4.Variable'>\n",
      "float32 y_image()\n",
      "    long_name: GOES-R fixed grid projection y-coordinate center of image\n",
      "    standard_name: projection_y_coordinate\n",
      "    units: rad\n",
      "    axis: Y\n",
      "unlimited dimensions: \n",
      "current shape = ()\n",
      "filling on, default _FillValue of 9.969209968386869e+36 used\n",
      "), ('y_image_bounds', <class 'netCDF4._netCDF4.Variable'>\n",
      "float32 y_image_bounds(number_of_image_bounds)\n",
      "    long_name: GOES-R fixed grid projection y-coordinate north/south extent of image\n",
      "    units: rad\n",
      "unlimited dimensions: \n",
      "current shape = (2,)\n",
      "filling on, default _FillValue of 9.969209968386869e+36 used\n",
      "), ('x_image', <class 'netCDF4._netCDF4.Variable'>\n",
      "float32 x_image()\n",
      "    long_name: GOES-R fixed grid projection x-coordinate center of image\n",
      "    standard_name: projection_x_coordinate\n",
      "    units: rad\n",
      "    axis: X\n",
      "unlimited dimensions: \n",
      "current shape = ()\n",
      "filling on, default _FillValue of 9.969209968386869e+36 used\n",
      "), ('x_image_bounds', <class 'netCDF4._netCDF4.Variable'>\n",
      "float32 x_image_bounds(number_of_image_bounds)\n",
      "    long_name: GOES-R fixed grid projection x-coordinate west/east extent of image\n",
      "    units: rad\n",
      "unlimited dimensions: \n",
      "current shape = (2,)\n",
      "filling on, default _FillValue of 9.969209968386869e+36 used\n",
      "), ('nominal_satellite_subpoint_lat', <class 'netCDF4._netCDF4.Variable'>\n",
      "float32 nominal_satellite_subpoint_lat()\n",
      "    long_name: nominal satellite subpoint latitude (platform latitude)\n",
      "    standard_name: latitude\n",
      "    _FillValue: -999.0\n",
      "    units: degrees_north\n",
      "unlimited dimensions: \n",
      "current shape = ()\n",
      "filling on), ('nominal_satellite_subpoint_lon', <class 'netCDF4._netCDF4.Variable'>\n",
      "float32 nominal_satellite_subpoint_lon()\n",
      "    long_name: nominal satellite subpoint longitude (platform longitude)\n",
      "    standard_name: longitude\n",
      "    _FillValue: -999.0\n",
      "    units: degrees_east\n",
      "unlimited dimensions: \n",
      "current shape = ()\n",
      "filling on), ('nominal_satellite_height', <class 'netCDF4._netCDF4.Variable'>\n",
      "float32 nominal_satellite_height()\n",
      "    long_name: nominal satellite height above GRS 80 ellipsoid (platform altitude)\n",
      "    standard_name: height_above_reference_ellipsoid\n",
      "    _FillValue: -999.0\n",
      "    units: km\n",
      "unlimited dimensions: \n",
      "current shape = ()\n",
      "filling on), ('geospatial_lat_lon_extent', <class 'netCDF4._netCDF4.Variable'>\n",
      "float32 geospatial_lat_lon_extent()\n",
      "    long_name: geospatial latitude and longitude references\n",
      "    geospatial_westbound_longitude: 141.7005\n",
      "    geospatial_northbound_latitude: 81.3282\n",
      "    geospatial_eastbound_longitude: -55.7005\n",
      "    geospatial_southbound_latitude: -81.3282\n",
      "    geospatial_lat_center: 0.0\n",
      "    geospatial_lon_center: -137.0\n",
      "    geospatial_lat_nadir: 0.0\n",
      "    geospatial_lon_nadir: -137.0\n",
      "    geospatial_lat_units: degrees_north\n",
      "    geospatial_lon_units: degrees_east\n",
      "unlimited dimensions: \n",
      "current shape = ()\n",
      "filling on, default _FillValue of 9.969209968386869e+36 used\n",
      "), ('yaw_flip_flag', <class 'netCDF4._netCDF4.Variable'>\n",
      "int8 yaw_flip_flag()\n",
      "    long_name: Flag indicating the spacecraft is operating in yaw flip configuration\n",
      "    _Unsigned: true\n",
      "    _FillValue: -1\n",
      "    valid_range: [0 1]\n",
      "    units: 1\n",
      "    coordinates: t\n",
      "    flag_values: [0 1]\n",
      "    flag_meanings: false true\n",
      "unlimited dimensions: \n",
      "current shape = ()\n",
      "filling on), ('band_id', <class 'netCDF4._netCDF4.Variable'>\n",
      "int8 band_id(band)\n",
      "    long_name: ABI band number\n",
      "    standard_name: sensor_band_identifier\n",
      "    units: 1\n",
      "unlimited dimensions: \n",
      "current shape = (1,)\n",
      "filling on, default _FillValue of -127 ignored\n",
      "), ('band_wavelength', <class 'netCDF4._netCDF4.Variable'>\n",
      "float32 band_wavelength(band)\n",
      "    long_name: ABI band central wavelength\n",
      "    standard_name: sensor_band_central_radiation_wavelength\n",
      "    units: um\n",
      "unlimited dimensions: \n",
      "current shape = (1,)\n",
      "filling on, default _FillValue of 9.969209968386869e+36 used\n",
      "), ('esun', <class 'netCDF4._netCDF4.Variable'>\n",
      "float32 esun()\n",
      "    long_name: bandpass-weighted solar irradiance at the mean Earth-Sun distance\n",
      "    standard_name: toa_shortwave_irradiance_per_unit_wavelength\n",
      "    _FillValue: -999.0\n",
      "    units: W m-2 um-1\n",
      "    coordinates: band_id band_wavelength t\n",
      "    cell_methods: t: mean\n",
      "unlimited dimensions: \n",
      "current shape = ()\n",
      "filling on), ('kappa0', <class 'netCDF4._netCDF4.Variable'>\n",
      "float32 kappa0()\n",
      "    long_name: Inverse of the incoming top of atmosphere radiance at current earth-sun distance (PI d2 esun-1)-1, where d is the ratio of instantaneous Earth-Sun distance divided by the mean Earth-Sun distance, esun is the bandpass-weighted solar irradiance and PI is a standard constant used to convert ABI L1b radiance to reflectance\n",
      "    _FillValue: -999.0\n",
      "    units: (W m-2 um-1)-1\n",
      "    coordinates: band_id band_wavelength t\n",
      "    cell_methods: t: mean\n",
      "unlimited dimensions: \n",
      "current shape = ()\n",
      "filling on), ('planck_fk1', <class 'netCDF4._netCDF4.Variable'>\n",
      "float32 planck_fk1()\n",
      "    long_name: wavenumber-dependent coefficient (2 h c2/ nu3) used in the ABI emissive band monochromatic brightness temperature computation, where nu =central wavenumber and h and c are standard constants\n",
      "    _FillValue: -999.0\n",
      "    units: W m-1\n",
      "    coordinates: band_id band_wavelength\n",
      "unlimited dimensions: \n",
      "current shape = ()\n",
      "filling on), ('planck_fk2', <class 'netCDF4._netCDF4.Variable'>\n",
      "float32 planck_fk2()\n",
      "    long_name: wavenumber-dependent coefficient (h c nu/b) used in the ABI emissive band monochromatic brightness temperature computation, where nu = central wavenumber and h, c, and b are standard constants\n",
      "    _FillValue: -999.0\n",
      "    units: K\n",
      "    coordinates: band_id band_wavelength\n",
      "unlimited dimensions: \n",
      "current shape = ()\n",
      "filling on), ('planck_bc1', <class 'netCDF4._netCDF4.Variable'>\n",
      "float32 planck_bc1()\n",
      "    long_name: spectral bandpass correction offset for brightness temperature (B(nu) - bc_1)/bc_2 where B()=planck_function() and nu=wavenumber\n",
      "    _FillValue: -999.0\n",
      "    units: K\n",
      "    coordinates: band_id band_wavelength\n",
      "unlimited dimensions: \n",
      "current shape = ()\n",
      "filling on), ('planck_bc2', <class 'netCDF4._netCDF4.Variable'>\n",
      "float32 planck_bc2()\n",
      "    long_name: spectral bandpass correction scale factor for brightness temperature (B(nu) - bc_1)/bc_2 where B()=planck_function() and nu=wavenumber\n",
      "    _FillValue: -999.0\n",
      "    units: 1\n",
      "    coordinates: band_id band_wavelength\n",
      "unlimited dimensions: \n",
      "current shape = ()\n",
      "filling on), ('valid_pixel_count', <class 'netCDF4._netCDF4.Variable'>\n",
      "int32 valid_pixel_count()\n",
      "    long_name: number of good and conditionally usable pixels\n",
      "    _FillValue: -1\n",
      "    units: count\n",
      "    coordinates: band_id band_wavelength t y_image x_image\n",
      "    grid_mapping: goes_imager_projection\n",
      "    cell_methods: t: sum area: sum (interval: 0.000056 rad comment: good and conditionally usable quality pixels only)\n",
      "unlimited dimensions: \n",
      "current shape = ()\n",
      "filling on), ('missing_pixel_count', <class 'netCDF4._netCDF4.Variable'>\n",
      "int32 missing_pixel_count()\n",
      "    long_name: number of missing pixels\n",
      "    _FillValue: -1\n",
      "    units: count\n",
      "    coordinates: band_id band_wavelength t y_image x_image\n",
      "    grid_mapping: goes_imager_projection\n",
      "    cell_methods: t: sum area: sum (interval: 0.000056 rad comment: missing ABI fixed grid pixels only)\n",
      "unlimited dimensions: \n",
      "current shape = ()\n",
      "filling on), ('saturated_pixel_count', <class 'netCDF4._netCDF4.Variable'>\n",
      "int32 saturated_pixel_count()\n",
      "    long_name: number of saturated pixels\n",
      "    _FillValue: -1\n",
      "    units: count\n",
      "    coordinates: band_id band_wavelength t y_image x_image\n",
      "    grid_mapping: goes_imager_projection\n",
      "    cell_methods: t: sum area: sum (interval: 0.000056 rad comment: radiometrically saturated geolocated/not missing pixels only)\n",
      "unlimited dimensions: \n",
      "current shape = ()\n",
      "filling on), ('undersaturated_pixel_count', <class 'netCDF4._netCDF4.Variable'>\n",
      "int32 undersaturated_pixel_count()\n",
      "    long_name: number of undersaturated pixels\n",
      "    _FillValue: -1\n",
      "    units: count\n",
      "    coordinates: band_id band_wavelength t y_image x_image\n",
      "    grid_mapping: goes_imager_projection\n",
      "    cell_methods: t: sum area: sum (interval: 0.000056 rad comment: radiometrically undersaturated geolocated/not missing pixels only)\n",
      "unlimited dimensions: \n",
      "current shape = ()\n",
      "filling on), ('focal_plane_temperature_threshold_exceeded_count', <class 'netCDF4._netCDF4.Variable'>\n",
      "int32 focal_plane_temperature_threshold_exceeded_count()\n",
      "    long_name: number of pixels whose temperatures exceeded the threshold\n",
      "    _FillValue: -1\n",
      "    units: count\n",
      "    coordinates: band_id band_wavelength t y_image x_image\n",
      "    grid_mapping: goes_imager_projection\n",
      "    cell_methods: t: sum area: sum (interval: 0.000056 rad comment: temperature exceeded pixels only)\n",
      "unlimited dimensions: \n",
      "current shape = ()\n",
      "filling on), ('min_radiance_value_of_valid_pixels', <class 'netCDF4._netCDF4.Variable'>\n",
      "float32 min_radiance_value_of_valid_pixels()\n",
      "    long_name: minimum radiance value of pixels\n",
      "    standard_name: toa_outgoing_radiance_per_unit_wavenumber\n",
      "    _FillValue: -999.0\n",
      "    valid_range: [-0.0376 25.5896]\n",
      "    units: mW m-2 sr-1 (cm-1)-1\n",
      "    coordinates: band_id band_wavelength t y_image x_image\n",
      "    grid_mapping: goes_imager_projection\n",
      "    cell_methods: t: sum area: minimum (interval: 0.000056 rad comment: good and conditionally usable quality pixels only)\n",
      "unlimited dimensions: \n",
      "current shape = ()\n",
      "filling on), ('max_radiance_value_of_valid_pixels', <class 'netCDF4._netCDF4.Variable'>\n",
      "float32 max_radiance_value_of_valid_pixels()\n",
      "    long_name: maximum radiance value of pixels\n",
      "    standard_name: toa_outgoing_radiance_per_unit_wavenumber\n",
      "    _FillValue: -999.0\n",
      "    valid_range: [-0.0376 25.5896]\n",
      "    units: mW m-2 sr-1 (cm-1)-1\n",
      "    coordinates: band_id band_wavelength t y_image x_image\n",
      "    grid_mapping: goes_imager_projection\n",
      "    cell_methods: t: sum area: maximum (interval: 0.000056 rad comment: good and conditionally usable quality pixels only)\n",
      "unlimited dimensions: \n",
      "current shape = ()\n",
      "filling on), ('mean_radiance_value_of_valid_pixels', <class 'netCDF4._netCDF4.Variable'>\n",
      "float32 mean_radiance_value_of_valid_pixels()\n",
      "    long_name: mean radiance value of pixels\n",
      "    standard_name: toa_outgoing_radiance_per_unit_wavenumber\n",
      "    _FillValue: -999.0\n",
      "    valid_range: [-0.0376 25.5896]\n",
      "    units: mW m-2 sr-1 (cm-1)-1\n",
      "    coordinates: band_id band_wavelength t y_image x_image\n",
      "    grid_mapping: goes_imager_projection\n",
      "    cell_methods: t: sum area: mean (interval: 0.000056 rad comment: good and conditionally usable quality pixels only)\n",
      "unlimited dimensions: \n",
      "current shape = ()\n",
      "filling on), ('std_dev_radiance_value_of_valid_pixels', <class 'netCDF4._netCDF4.Variable'>\n",
      "float32 std_dev_radiance_value_of_valid_pixels()\n",
      "    long_name: standard deviation of radiance values of pixels\n",
      "    standard_name: toa_outgoing_radiance_per_unit_wavenumber\n",
      "    _FillValue: -999.0\n",
      "    units: mW m-2 sr-1 (cm-1)-1\n",
      "    coordinates: band_id band_wavelength t y_image x_image\n",
      "    grid_mapping: goes_imager_projection\n",
      "    cell_methods: t: sum area: standard_deviation (interval: 0.000056 rad comment: good and conditionally usable quality pixels only)\n",
      "unlimited dimensions: \n",
      "current shape = ()\n",
      "filling on), ('maximum_focal_plane_temperature', <class 'netCDF4._netCDF4.Variable'>\n",
      "float32 maximum_focal_plane_temperature()\n",
      "    long_name: maximum focal plane temperature value\n",
      "    _FillValue: -999.0\n",
      "    valid_range: [  0. 999.]\n",
      "    units: K\n",
      "unlimited dimensions: \n",
      "current shape = ()\n",
      "filling on), ('focal_plane_temperature_threshold_increasing', <class 'netCDF4._netCDF4.Variable'>\n",
      "float32 focal_plane_temperature_threshold_increasing()\n",
      "    long_name: focal plane temperature threshold increasing bounds value\n",
      "    _FillValue: -999.0\n",
      "    valid_range: [  0. 999.]\n",
      "    units: K\n",
      "unlimited dimensions: \n",
      "current shape = ()\n",
      "filling on), ('focal_plane_temperature_threshold_decreasing', <class 'netCDF4._netCDF4.Variable'>\n",
      "float32 focal_plane_temperature_threshold_decreasing()\n",
      "    long_name: focal plane temperature threshold decreasing bounds value\n",
      "    _FillValue: -999.0\n",
      "    valid_range: [  0. 999.]\n",
      "    units: K\n",
      "unlimited dimensions: \n",
      "current shape = ()\n",
      "filling on), ('percent_uncorrectable_L0_errors', <class 'netCDF4._netCDF4.Variable'>\n",
      "float32 percent_uncorrectable_L0_errors()\n",
      "    long_name: percent data lost due to uncorrectable L0 errors\n",
      "    _FillValue: -999.0\n",
      "    valid_range: [0. 1.]\n",
      "    units: percent\n",
      "    coordinates: t y_image x_image\n",
      "    grid_mapping: goes_imager_projection\n",
      "    cell_methods: t: sum area: sum (uncorrectable L0 errors only)\n",
      "unlimited dimensions: \n",
      "current shape = ()\n",
      "filling on), ('earth_sun_distance_anomaly_in_AU', <class 'netCDF4._netCDF4.Variable'>\n",
      "float32 earth_sun_distance_anomaly_in_AU()\n",
      "    long_name: earth sun distance anomaly in astronomical units\n",
      "    _FillValue: -999.0\n",
      "    units: ua\n",
      "    coordinates: t\n",
      "    cell_methods: t: mean\n",
      "unlimited dimensions: \n",
      "current shape = ()\n",
      "filling on), ('algorithm_dynamic_input_data_container', <class 'netCDF4._netCDF4.Variable'>\n",
      "int32 algorithm_dynamic_input_data_container()\n",
      "    long_name: container for filenames of dynamic algorithm input data\n",
      "    input_ABI_L0_data: OR_ABI-L0-F-M6_G17_s20192210000339_e20192210009416_c*.nc\n",
      "unlimited dimensions: \n",
      "current shape = ()\n",
      "filling on, default _FillValue of -2147483647 used\n",
      "), ('processing_parm_version_container', <class 'netCDF4._netCDF4.Variable'>\n",
      "int32 processing_parm_version_container()\n",
      "    long_name: container for processing parameter filenames\n",
      "    L1b_processing_parm_version: OR-PARM-RAD_G17_v01r00.zip\n",
      "unlimited dimensions: \n",
      "current shape = ()\n",
      "filling on, default _FillValue of -2147483647 used\n",
      "), ('algorithm_product_version_container', <class 'netCDF4._netCDF4.Variable'>\n",
      "int32 algorithm_product_version_container()\n",
      "    long_name: container for algorithm package filename and product version\n",
      "    algorithm_version: OR_ABI-L1b-ALG-RAD_v01r00.zip\n",
      "    product_version: v01r00\n",
      "unlimited dimensions: \n",
      "current shape = ()\n",
      "filling on, default _FillValue of -2147483647 used\n",
      "), ('t_star_look', <class 'netCDF4._netCDF4.Variable'>\n",
      "float64 t_star_look(num_star_looks)\n",
      "    long_name: J2000 epoch time of star observed in seconds\n",
      "    standard_name: time\n",
      "    units: seconds since 2000-01-01 12:00:00\n",
      "    axis: T\n",
      "unlimited dimensions: \n",
      "current shape = (24,)\n",
      "filling on, default _FillValue of 9.969209968386869e+36 used\n",
      "), ('band_wavelength_star_look', <class 'netCDF4._netCDF4.Variable'>\n",
      "float32 band_wavelength_star_look(num_star_looks)\n",
      "    long_name: ABI band central wavelength associated with observed star\n",
      "    standard_name: sensor_band_central_radiation_wavelength\n",
      "    units: um\n",
      "unlimited dimensions: \n",
      "current shape = (24,)\n",
      "filling on, default _FillValue of 9.969209968386869e+36 used\n",
      "), ('star_id', <class 'netCDF4._netCDF4.Variable'>\n",
      "int16 star_id(num_star_looks)\n",
      "    long_name: ABI star catalog identifier associated with observed star\n",
      "    _Unsigned: true\n",
      "    _FillValue: -1\n",
      "    coordinates: band_id band_wavelength_star_look t_star_look\n",
      "unlimited dimensions: \n",
      "current shape = (24,)\n",
      "filling on)])\n"
     ]
    }
   ],
   "source": [
    "print(data.variables)"
   ]
  },
  {
   "cell_type": "code",
   "execution_count": 54,
   "metadata": {},
   "outputs": [
    {
     "name": "stdout",
     "output_type": "stream",
     "text": [
      "fall_npy_221_OR_ABI-L1b-RadF-M6C07_G16_s20192210000548_e20192210010268_c20192210010328.npy\n",
      "fall_npy_221_OR_ABI-L1b-RadF-M6C07_G16_s20192210010548_e20192210020268_c20192210020332.npy\n",
      "fall_npy_221_OR_ABI-L1b-RadF-M6C07_G16_s20192210020548_e20192210030268_c20192210030328.npy\n",
      "fall_npy_221_OR_ABI-L1b-RadF-M6C07_G16_s20192210030548_e20192210040268_c20192210040326.npy\n",
      "fall_npy_221_OR_ABI-L1b-RadF-M6C07_G16_s20192210040549_e20192210050269_c20192210050323.npy\n",
      "\n",
      "\n",
      "fall_npy_221_OR_ABI-L1b-RadF-M6C07_G17_s20192210000339_e20192210009416_c20192210009459.npy\n",
      "fall_npy_221_OR_ABI-L1b-RadF-M6C07_G17_s20192210010339_e20192210019417_c20192210019461.npy\n",
      "fall_npy_221_OR_ABI-L1b-RadF-M6C07_G17_s20192210020339_e20192210029417_c20192210029462.npy\n",
      "fall_npy_221_OR_ABI-L1b-RadF-M6C07_G17_s20192210030339_e20192210039417_c20192210039464.npy\n",
      "fall_npy_221_OR_ABI-L1b-RadF-M6C07_G17_s20192210040339_e20192210049417_c20192210049462.npy\n"
     ]
    },
    {
     "data": {
      "text/plain": [
       "[None, None, None, None, None]"
      ]
     },
     "execution_count": 54,
     "metadata": {},
     "output_type": "execute_result"
    }
   ],
   "source": [
    "files = [f for f in os.listdir('data/') if re.match(r'.*\\.npy', f)]\n",
    "G16_files = [f for f in files if re.match(r'.*_G16_.*', f)]\n",
    "G17_files = [f for f in files if re.match(r'.*_G17_.*', f)]\n",
    "\n",
    "[print(f) for f in G16_files]\n",
    "print('\\n')\n",
    "[print(f) for f in G17_files]"
   ]
  },
  {
   "cell_type": "code",
   "execution_count": 59,
   "metadata": {},
   "outputs": [
    {
     "name": "stdout",
     "output_type": "stream",
     "text": [
      "G16 data shape:  (1001, 401)\n",
      "G17 data shape:  (1001, 401)\n"
     ]
    }
   ],
   "source": [
    "G16_data = [np.load('data/'+data) for data in G16_files]\n",
    "G17_data = [np.load('data/'+data) for data in G17_files]\n",
    "\n",
    "print('G16 data shape: ',G16_data[0].shape)\n",
    "print('G17 data shape: ',G17_data[0].shape)"
   ]
  },
  {
   "cell_type": "code",
   "execution_count": 61,
   "metadata": {},
   "outputs": [
    {
     "data": {
      "text/plain": [
       "array([[0.7789913 , 0.7680408 , 0.7226746 , ..., 0.50835854, 0.56780386,\n",
       "        0.62881356],\n",
       "       [0.7789913 , 0.7226746 , 0.70233804, ..., 0.53808117, 0.5990909 ,\n",
       "        0.6460214 ],\n",
       "       [0.7508329 , 0.70233804, 0.70233804, ..., 0.5803187 , 0.64445704,\n",
       "        0.65540755],\n",
       "       ...,\n",
       "       [0.07503328, 0.06564717, 0.06564717, ..., 0.8665949 , 0.8634662 ,\n",
       "        0.8587732 ],\n",
       "       [0.07816197, 0.06095411, 0.06564717, ..., 0.8055852 , 0.7742982 ,\n",
       "        0.79776347],\n",
       "       [0.07816197, 0.06877588, 0.06095411, ..., 0.68982327, 0.70546675,\n",
       "        0.7508329 ]], dtype=float32)"
      ]
     },
     "execution_count": 61,
     "metadata": {},
     "output_type": "execute_result"
    }
   ],
   "source": [
    "G16_data[0]"
   ]
  },
  {
   "cell_type": "code",
   "execution_count": 60,
   "metadata": {},
   "outputs": [
    {
     "data": {
      "text/plain": [
       "array([[0.71172416, 0.6632293 , 0.6366353 , ..., 0.5349525 , 0.51148725,\n",
       "        0.5881404 ],\n",
       "       [0.6757441 , 0.62568486, 0.639764  , ..., 0.55528903, 0.5349525 ,\n",
       "        0.5881404 ],\n",
       "       [0.6647936 , 0.61317   , 0.6209918 , ..., 0.55528903, 0.55528903,\n",
       "        0.59596217],\n",
       "       ...,\n",
       "       [0.03123144, 0.02810274, 0.0296671 , ..., 0.7539616 , 0.7539616 ,\n",
       "        0.7211103 ],\n",
       "       [0.0296671 , 0.0296671 , 0.0296671 , ..., 0.7539616 , 0.6960806 ,\n",
       "        0.65384316],\n",
       "       [0.0296671 , 0.02810274, 0.02810274, ..., 0.6960806 , 0.6116057 ,\n",
       "        0.65384316]], dtype=float32)"
      ]
     },
     "execution_count": 60,
     "metadata": {},
     "output_type": "execute_result"
    }
   ],
   "source": [
    "G17_data[0]"
   ]
  },
  {
   "cell_type": "code",
   "execution_count": 112,
   "metadata": {},
   "outputs": [
    {
     "name": "stdout",
     "output_type": "stream",
     "text": [
      "0.03642378705444459\n"
     ]
    }
   ],
   "source": [
    "diff = abs(G16_data[0] - G17_data[0])\n",
    "#std of total group\n",
    "\n",
    "n16 = G16_data[0].shape[0] * G16_data[0].shape[1]\n",
    "n17 = G17_data[0].shape[0] * G17_data[0].shape[1]\n",
    "var16 = np.var(G16_data[0])\n",
    "var17 = np.var(G17_data[0])\n",
    "mean16 = np.mean(G16_data[0])\n",
    "mean17 = np.mean(G17_data[0])\n",
    "\n",
    "mean = (n16*mean16+n17*mean17)/(n16+n17)\n",
    "d16 = mean16 - mean\n",
    "d17 = mean17 - mean\n",
    "std = np.sqrt((n16*(var16**2 + d16**2) + n17*(var17**2 + d17**2))/(n16+n17))\n",
    "print(std)"
   ]
  },
  {
   "cell_type": "code",
   "execution_count": 113,
   "metadata": {},
   "outputs": [
    {
     "data": {
      "text/plain": [
       "array([[0.06726712, 0.10481149, 0.0860393 , ..., 0.02659398, 0.05631661,\n",
       "        0.04067314],\n",
       "       [0.10324717, 0.09698975, 0.06257403, ..., 0.01720786, 0.06413835,\n",
       "        0.057881  ],\n",
       "       [0.0860393 , 0.08916801, 0.08134621, ..., 0.02502966, 0.08916801,\n",
       "        0.05944538],\n",
       "       ...,\n",
       "       [0.04380183, 0.03754443, 0.03598007, ..., 0.11263329, 0.10950458,\n",
       "        0.13766289],\n",
       "       [0.04849487, 0.03128701, 0.03598007, ..., 0.05162358, 0.07821757,\n",
       "        0.1439203 ],\n",
       "       [0.04849487, 0.04067313, 0.03285137, ..., 0.00625736, 0.09386104,\n",
       "        0.09698975]], dtype=float32)"
      ]
     },
     "execution_count": 113,
     "metadata": {},
     "output_type": "execute_result"
    }
   ],
   "source": [
    "diff"
   ]
  },
  {
   "cell_type": "code",
   "execution_count": 114,
   "metadata": {},
   "outputs": [
    {
     "data": {
      "text/plain": [
       "array([[2., 3., 3., ..., 1., 2., 2.],\n",
       "       [3., 3., 2., ..., 1., 2., 2.],\n",
       "       [3., 3., 3., ..., 1., 3., 2.],\n",
       "       ...,\n",
       "       [2., 2., 1., ..., 4., 4., 4.],\n",
       "       [2., 1., 1., ..., 2., 3., 4.],\n",
       "       [2., 2., 1., ..., 1., 3., 3.]], dtype=float32)"
      ]
     },
     "execution_count": 114,
     "metadata": {},
     "output_type": "execute_result"
    }
   ],
   "source": [
    "flags = np.ceil(diff/std)\n",
    "flags"
   ]
  },
  {
   "cell_type": "code",
   "execution_count": 79,
   "metadata": {},
   "outputs": [],
   "source": [
    "from sklearn.model_selection import train_test_split\n",
    "from sklearn.ensemble import RandomForestClassifier"
   ]
  },
  {
   "cell_type": "code",
   "execution_count": 81,
   "metadata": {},
   "outputs": [],
   "source": [
    "X_train, X_test, y_train, y_test = train_test_split(G17_data[0], flags, test_size=0.2, random_state=42)"
   ]
  },
  {
   "cell_type": "code",
   "execution_count": 82,
   "metadata": {},
   "outputs": [
    {
     "name": "stdout",
     "output_type": "stream",
     "text": [
      "[0.0024458  0.00289156 0.00231973 0.00296266 0.00268551 0.00240928\n",
      " 0.00272515 0.00256565 0.00214921 0.00274761 0.00313286 0.00352562\n",
      " 0.00252139 0.00202172 0.00247852 0.00249933 0.00227783 0.00267746\n",
      " 0.00224262 0.00210555 0.0021332  0.00275688 0.00178113 0.00210366\n",
      " 0.00178935 0.00183475 0.00213017 0.00187618 0.00209566 0.00289585\n",
      " 0.00244805 0.00196509 0.00199184 0.00209207 0.0021328  0.00221609\n",
      " 0.00196878 0.00262558 0.00248093 0.0020847  0.00270886 0.00269637\n",
      " 0.0024686  0.0026124  0.00192207 0.00297888 0.00200247 0.00260428\n",
      " 0.0026439  0.00267242 0.00286971 0.00235477 0.00248645 0.00285983\n",
      " 0.00254832 0.00251768 0.00250124 0.00239521 0.00281387 0.00269361\n",
      " 0.00211302 0.00236726 0.00242742 0.00234623 0.00220727 0.0030476\n",
      " 0.00307034 0.00272875 0.00219871 0.00214263 0.00274679 0.0020766\n",
      " 0.00240699 0.00178955 0.00283356 0.00229552 0.00257763 0.0023908\n",
      " 0.00235352 0.00226178 0.00150373 0.00216715 0.00191621 0.00242949\n",
      " 0.00203741 0.00219239 0.00227829 0.00250874 0.00257298 0.00174621\n",
      " 0.00212473 0.00262895 0.00324656 0.00194147 0.00221244 0.00252227\n",
      " 0.00193488 0.00255183 0.00208249 0.00193689 0.00204354 0.00238914\n",
      " 0.00201236 0.0023482  0.00240581 0.00157301 0.00187866 0.00205579\n",
      " 0.00253405 0.00200593 0.00164678 0.00169175 0.00191554 0.00183872\n",
      " 0.00227357 0.00198427 0.00212797 0.00229652 0.00291541 0.0021425\n",
      " 0.00205203 0.00214643 0.00191949 0.00228169 0.00200608 0.00222166\n",
      " 0.00184774 0.0019837  0.00208534 0.00211217 0.00247873 0.00232524\n",
      " 0.00226852 0.00209179 0.00240568 0.00231085 0.00199916 0.00206619\n",
      " 0.00220744 0.00307193 0.00268133 0.00217128 0.00185336 0.00240378\n",
      " 0.00254829 0.00220078 0.0023479  0.00247678 0.00250886 0.00191994\n",
      " 0.00180406 0.00215194 0.00208991 0.00280833 0.00259129 0.00261521\n",
      " 0.00205313 0.00227917 0.00225281 0.00196408 0.00202966 0.00219277\n",
      " 0.00229293 0.00211158 0.00242935 0.00212829 0.00280134 0.00208259\n",
      " 0.00214608 0.00219197 0.00274207 0.0020534  0.00225817 0.00219546\n",
      " 0.00264696 0.00228182 0.00210371 0.00210731 0.00192122 0.00228402\n",
      " 0.00177013 0.00190924 0.00230844 0.00357697 0.00317257 0.00268095\n",
      " 0.00263313 0.0024335  0.00239774 0.00186595 0.00231757 0.0022431\n",
      " 0.00207104 0.00236908 0.00202999 0.00217839 0.00233609 0.00228226\n",
      " 0.00230157 0.00163196 0.00250808 0.0021145  0.00237476 0.00284786\n",
      " 0.00272795 0.0022545  0.0031772  0.00233545 0.00252088 0.00294087\n",
      " 0.00256653 0.00228337 0.0022509  0.00216637 0.00272176 0.00225989\n",
      " 0.0025659  0.00271292 0.00260186 0.00272062 0.00280079 0.00229708\n",
      " 0.00289842 0.00349853 0.00332335 0.00312303 0.00244704 0.00229048\n",
      " 0.00200699 0.00266454 0.00171695 0.0021668  0.00225195 0.0019513\n",
      " 0.00327615 0.00276393 0.00291833 0.0026232  0.00282107 0.00188881\n",
      " 0.0020232  0.00230442 0.00178626 0.00219019 0.00265021 0.00239232\n",
      " 0.00272165 0.00215519 0.00289276 0.0022995  0.00189619 0.00238282\n",
      " 0.00212606 0.0016964  0.00240482 0.0022919  0.0021921  0.00264838\n",
      " 0.00176401 0.00216552 0.0023691  0.00197129 0.0025462  0.00291344\n",
      " 0.00289056 0.00249124 0.00227678 0.00273907 0.00224767 0.00315441\n",
      " 0.00254698 0.00246764 0.0022966  0.00204209 0.00236173 0.00232152\n",
      " 0.00227677 0.00246218 0.00210791 0.00258994 0.00229294 0.00224611\n",
      " 0.00282286 0.00220442 0.00158742 0.00209382 0.00223728 0.0025968\n",
      " 0.00298314 0.00331588 0.00235119 0.00218034 0.00345659 0.00324001\n",
      " 0.00241513 0.00247168 0.0024573  0.00200925 0.00217119 0.00188668\n",
      " 0.001857   0.00260032 0.00175214 0.00259038 0.00214202 0.00253536\n",
      " 0.00168246 0.00249001 0.0022771  0.00227862 0.00267985 0.0025504\n",
      " 0.00252113 0.00292357 0.00238427 0.00215713 0.00225167 0.00236788\n",
      " 0.0025351  0.00274545 0.00235733 0.00301215 0.00218182 0.0029941\n",
      " 0.00289005 0.0025918  0.00211688 0.00260952 0.00204162 0.00244837\n",
      " 0.00231374 0.00300054 0.00247612 0.00203348 0.00259108 0.00272368\n",
      " 0.00249863 0.00341099 0.00335538 0.00206593 0.00359457 0.00398657\n",
      " 0.00301011 0.00443845 0.00329641 0.00374266 0.00206349 0.0038714\n",
      " 0.00603492 0.00377225 0.00307766 0.00420136 0.00342766 0.00306712\n",
      " 0.0041185  0.0032661  0.00320091 0.00363392 0.00264614 0.00322509\n",
      " 0.00302245 0.00240995 0.0022478  0.00191596 0.00297628 0.00270152\n",
      " 0.00326974 0.00237463 0.00200362 0.00316441 0.00519961 0.0031528\n",
      " 0.00372514 0.00175934 0.0027543  0.0034984  0.00351884 0.00349821\n",
      " 0.00296224 0.00516139 0.00336378 0.00256649 0.00285591 0.00298294\n",
      " 0.00226845 0.00259523 0.00201666 0.00253011 0.0027867  0.00285105\n",
      " 0.00263838 0.00285568 0.00283998 0.00294542 0.00292783 0.00319098\n",
      " 0.00337574 0.00294094 0.0027587  0.00294054 0.0040337 ]\n",
      "[[3. 3. 3. ... 1. 1. 2.]\n",
      " [2. 1. 1. ... 2. 3. 1.]\n",
      " [4. 4. 5. ... 1. 2. 2.]\n",
      " ...\n",
      " [2. 2. 2. ... 1. 1. 2.]\n",
      " [2. 2. 2. ... 1. 1. 1.]\n",
      " [2. 2. 2. ... 2. 2. 2.]]\n"
     ]
    }
   ],
   "source": [
    "clf = RandomForestClassifier(n_estimators=100, criterion='gini', max_depth=None, min_samples_split=2, \n",
    "                             min_samples_leaf=1, min_weight_fraction_leaf=0.0, max_features='auto', \n",
    "                             max_leaf_nodes=None, min_impurity_decrease=0.0, min_impurity_split=None, \n",
    "                             bootstrap=True, oob_score=False, n_jobs=None, random_state=None, verbose=0, \n",
    "                             warm_start=False, class_weight=None, ccp_alpha=0.0, max_samples=None)\n",
    "clf.fit(X_train, y_train)\n",
    "print(clf.feature_importances_)"
   ]
  },
  {
   "cell_type": "code",
   "execution_count": 111,
   "metadata": {},
   "outputs": [],
   "source": [
    "predict = clf.predict(X_test)"
   ]
  },
  {
   "cell_type": "code",
   "execution_count": 126,
   "metadata": {},
   "outputs": [
    {
     "name": "stdout",
     "output_type": "stream",
     "text": [
      "test\n",
      "Mean Absolute Error: 0.35\n",
      "Mean Squared Error: 0.50850487\n",
      "train\n",
      "Mean Absolute Error: 0.0\n"
     ]
    },
    {
     "ename": "ValueError",
     "evalue": "Found input variables with inconsistent numbers of samples: [201, 800]",
     "output_type": "error",
     "traceback": [
      "\u001b[1;31m---------------------------------------------------------------------------\u001b[0m",
      "\u001b[1;31mValueError\u001b[0m                                Traceback (most recent call last)",
      "\u001b[1;32m<ipython-input-126-a238917ebefe>\u001b[0m in \u001b[0;36m<module>\u001b[1;34m\u001b[0m\n\u001b[0;32m      8\u001b[0m \u001b[0mprint\u001b[0m\u001b[1;33m(\u001b[0m\u001b[1;34m'train'\u001b[0m\u001b[1;33m)\u001b[0m\u001b[1;33m\u001b[0m\u001b[1;33m\u001b[0m\u001b[0m\n\u001b[0;32m      9\u001b[0m \u001b[0mprint\u001b[0m\u001b[1;33m(\u001b[0m\u001b[1;34m'Mean Absolute Error:'\u001b[0m\u001b[1;33m,\u001b[0m \u001b[0mround\u001b[0m\u001b[1;33m(\u001b[0m\u001b[0mnp\u001b[0m\u001b[1;33m.\u001b[0m\u001b[0mmean\u001b[0m\u001b[1;33m(\u001b[0m\u001b[0mabs\u001b[0m\u001b[1;33m(\u001b[0m\u001b[0mtrain_predict\u001b[0m \u001b[1;33m-\u001b[0m \u001b[0my_train\u001b[0m\u001b[1;33m)\u001b[0m\u001b[1;33m)\u001b[0m\u001b[1;33m,\u001b[0m \u001b[1;36m2\u001b[0m\u001b[1;33m)\u001b[0m\u001b[1;33m)\u001b[0m\u001b[1;33m\u001b[0m\u001b[1;33m\u001b[0m\u001b[0m\n\u001b[1;32m---> 10\u001b[1;33m \u001b[0mprint\u001b[0m\u001b[1;33m(\u001b[0m\u001b[1;34m'Mean Squared Error:'\u001b[0m\u001b[1;33m,\u001b[0m \u001b[0mmean_squared_error\u001b[0m\u001b[1;33m(\u001b[0m\u001b[0my_test\u001b[0m\u001b[1;33m,\u001b[0m \u001b[0mtrain_predict\u001b[0m\u001b[1;33m)\u001b[0m\u001b[1;33m)\u001b[0m\u001b[1;33m\u001b[0m\u001b[1;33m\u001b[0m\u001b[0m\n\u001b[0m",
      "\u001b[1;32mC:\\Computer_Science\\Anaconda\\lib\\site-packages\\sklearn\\metrics\\_regression.py\u001b[0m in \u001b[0;36mmean_squared_error\u001b[1;34m(y_true, y_pred, sample_weight, multioutput, squared)\u001b[0m\n\u001b[0;32m    250\u001b[0m     \"\"\"\n\u001b[0;32m    251\u001b[0m     y_type, y_true, y_pred, multioutput = _check_reg_targets(\n\u001b[1;32m--> 252\u001b[1;33m         y_true, y_pred, multioutput)\n\u001b[0m\u001b[0;32m    253\u001b[0m     \u001b[0mcheck_consistent_length\u001b[0m\u001b[1;33m(\u001b[0m\u001b[0my_true\u001b[0m\u001b[1;33m,\u001b[0m \u001b[0my_pred\u001b[0m\u001b[1;33m,\u001b[0m \u001b[0msample_weight\u001b[0m\u001b[1;33m)\u001b[0m\u001b[1;33m\u001b[0m\u001b[1;33m\u001b[0m\u001b[0m\n\u001b[0;32m    254\u001b[0m     output_errors = np.average((y_true - y_pred) ** 2, axis=0,\n",
      "\u001b[1;32mC:\\Computer_Science\\Anaconda\\lib\\site-packages\\sklearn\\metrics\\_regression.py\u001b[0m in \u001b[0;36m_check_reg_targets\u001b[1;34m(y_true, y_pred, multioutput, dtype)\u001b[0m\n\u001b[0;32m     82\u001b[0m \u001b[1;33m\u001b[0m\u001b[0m\n\u001b[0;32m     83\u001b[0m     \"\"\"\n\u001b[1;32m---> 84\u001b[1;33m     \u001b[0mcheck_consistent_length\u001b[0m\u001b[1;33m(\u001b[0m\u001b[0my_true\u001b[0m\u001b[1;33m,\u001b[0m \u001b[0my_pred\u001b[0m\u001b[1;33m)\u001b[0m\u001b[1;33m\u001b[0m\u001b[1;33m\u001b[0m\u001b[0m\n\u001b[0m\u001b[0;32m     85\u001b[0m     \u001b[0my_true\u001b[0m \u001b[1;33m=\u001b[0m \u001b[0mcheck_array\u001b[0m\u001b[1;33m(\u001b[0m\u001b[0my_true\u001b[0m\u001b[1;33m,\u001b[0m \u001b[0mensure_2d\u001b[0m\u001b[1;33m=\u001b[0m\u001b[1;32mFalse\u001b[0m\u001b[1;33m,\u001b[0m \u001b[0mdtype\u001b[0m\u001b[1;33m=\u001b[0m\u001b[0mdtype\u001b[0m\u001b[1;33m)\u001b[0m\u001b[1;33m\u001b[0m\u001b[1;33m\u001b[0m\u001b[0m\n\u001b[0;32m     86\u001b[0m     \u001b[0my_pred\u001b[0m \u001b[1;33m=\u001b[0m \u001b[0mcheck_array\u001b[0m\u001b[1;33m(\u001b[0m\u001b[0my_pred\u001b[0m\u001b[1;33m,\u001b[0m \u001b[0mensure_2d\u001b[0m\u001b[1;33m=\u001b[0m\u001b[1;32mFalse\u001b[0m\u001b[1;33m,\u001b[0m \u001b[0mdtype\u001b[0m\u001b[1;33m=\u001b[0m\u001b[0mdtype\u001b[0m\u001b[1;33m)\u001b[0m\u001b[1;33m\u001b[0m\u001b[1;33m\u001b[0m\u001b[0m\n",
      "\u001b[1;32mC:\\Computer_Science\\Anaconda\\lib\\site-packages\\sklearn\\utils\\validation.py\u001b[0m in \u001b[0;36mcheck_consistent_length\u001b[1;34m(*arrays)\u001b[0m\n\u001b[0;32m    210\u001b[0m     \u001b[1;32mif\u001b[0m \u001b[0mlen\u001b[0m\u001b[1;33m(\u001b[0m\u001b[0muniques\u001b[0m\u001b[1;33m)\u001b[0m \u001b[1;33m>\u001b[0m \u001b[1;36m1\u001b[0m\u001b[1;33m:\u001b[0m\u001b[1;33m\u001b[0m\u001b[1;33m\u001b[0m\u001b[0m\n\u001b[0;32m    211\u001b[0m         raise ValueError(\"Found input variables with inconsistent numbers of\"\n\u001b[1;32m--> 212\u001b[1;33m                          \" samples: %r\" % [int(l) for l in lengths])\n\u001b[0m\u001b[0;32m    213\u001b[0m \u001b[1;33m\u001b[0m\u001b[0m\n\u001b[0;32m    214\u001b[0m \u001b[1;33m\u001b[0m\u001b[0m\n",
      "\u001b[1;31mValueError\u001b[0m: Found input variables with inconsistent numbers of samples: [201, 800]"
     ]
    }
   ],
   "source": [
    "from sklearn.metrics import mean_squared_error\n",
    "errors = abs(predict - y_test)\n",
    "print('test')\n",
    "print('Mean Absolute Error:', round(np.mean(abs(predict - y_test)), 2))\n",
    "print('Mean Squared Error:', mean_squared_error(y_test, predict))\n",
    "\n",
    "train_predict = clf.predict(X_train)\n",
    "print('train')\n",
    "print('Mean Absolute Error:', round(np.mean(abs(train_predict - y_train)), 2))\n",
    "print('Mean Squared Error:', mean_squared_error(y_train, train_predict))\n"
   ]
  },
  {
   "cell_type": "code",
   "execution_count": 129,
   "metadata": {},
   "outputs": [
    {
     "name": "stdout",
     "output_type": "stream",
     "text": [
      "Mean Squared Error: 2.1820446e-05\n"
     ]
    }
   ],
   "source": [
    "print('Mean Squared Error:', mean_squared_error(y_train, train_predict))"
   ]
  },
  {
   "cell_type": "code",
   "execution_count": 122,
   "metadata": {},
   "outputs": [
    {
     "name": "stdout",
     "output_type": "stream",
     "text": [
      "0.03585463437446557\n"
     ]
    }
   ],
   "source": [
    "diff = abs(G16_data[1] - G17_data[1])\n",
    "#std of total group\n",
    "\n",
    "n16 = G16_data[1].shape[0] * G16_data[1].shape[1]\n",
    "n17 = G17_data[1].shape[0] * G17_data[1].shape[1]\n",
    "var16 = np.var(G16_data[1])\n",
    "var17 = np.var(G17_data[1])\n",
    "mean16 = np.mean(G16_data[1])\n",
    "mean17 = np.mean(G17_data[1])\n",
    "\n",
    "mean = (n16*mean16+n17*mean17)/(n16+n17)\n",
    "d16 = mean16 - mean\n",
    "d17 = mean17 - mean\n",
    "std = np.sqrt((n16*(var16**2 + d16**2) + n17*(var17**2 + d17**2))/(n16+n17))\n",
    "print(std)\n",
    "flags2 = np.ceil(diff/std)"
   ]
  },
  {
   "cell_type": "code",
   "execution_count": 123,
   "metadata": {},
   "outputs": [],
   "source": [
    "predict2 = clf.predict(G17_data[1])"
   ]
  },
  {
   "cell_type": "code",
   "execution_count": 124,
   "metadata": {},
   "outputs": [
    {
     "name": "stdout",
     "output_type": "stream",
     "text": [
      "Mean Absolute Error: 0.54 degrees.\n"
     ]
    },
    {
     "ename": "ValueError",
     "evalue": "Found input variables with inconsistent numbers of samples: [1001, 201]",
     "output_type": "error",
     "traceback": [
      "\u001b[1;31m---------------------------------------------------------------------------\u001b[0m",
      "\u001b[1;31mValueError\u001b[0m                                Traceback (most recent call last)",
      "\u001b[1;32m<ipython-input-124-e66fc275e579>\u001b[0m in \u001b[0;36m<module>\u001b[1;34m\u001b[0m\n\u001b[0;32m      1\u001b[0m \u001b[0merrors2\u001b[0m \u001b[1;33m=\u001b[0m \u001b[0mabs\u001b[0m\u001b[1;33m(\u001b[0m\u001b[0mpredict2\u001b[0m \u001b[1;33m-\u001b[0m \u001b[0mflags2\u001b[0m\u001b[1;33m)\u001b[0m\u001b[1;33m\u001b[0m\u001b[1;33m\u001b[0m\u001b[0m\n\u001b[0;32m      2\u001b[0m \u001b[0mprint\u001b[0m\u001b[1;33m(\u001b[0m\u001b[1;34m'Mean Absolute Error:'\u001b[0m\u001b[1;33m,\u001b[0m \u001b[0mround\u001b[0m\u001b[1;33m(\u001b[0m\u001b[0mnp\u001b[0m\u001b[1;33m.\u001b[0m\u001b[0mmean\u001b[0m\u001b[1;33m(\u001b[0m\u001b[0merrors2\u001b[0m\u001b[1;33m)\u001b[0m\u001b[1;33m,\u001b[0m \u001b[1;36m2\u001b[0m\u001b[1;33m)\u001b[0m\u001b[1;33m,\u001b[0m \u001b[1;34m'degrees.'\u001b[0m\u001b[1;33m)\u001b[0m\u001b[1;33m\u001b[0m\u001b[1;33m\u001b[0m\u001b[0m\n\u001b[1;32m----> 3\u001b[1;33m \u001b[0mprint\u001b[0m\u001b[1;33m(\u001b[0m\u001b[0mmean_squared_error\u001b[0m\u001b[1;33m(\u001b[0m\u001b[0mpredict2\u001b[0m\u001b[1;33m,\u001b[0m \u001b[0my_test\u001b[0m\u001b[1;33m)\u001b[0m\u001b[1;33m)\u001b[0m\u001b[1;33m\u001b[0m\u001b[1;33m\u001b[0m\u001b[0m\n\u001b[0m\u001b[0;32m      4\u001b[0m \u001b[0mprint\u001b[0m\u001b[1;33m(\u001b[0m\u001b[0mmean_squared_error\u001b[0m\u001b[1;33m(\u001b[0m\u001b[0mflag2\u001b[0m\u001b[1;33m,\u001b[0m \u001b[0mpredict2\u001b[0m\u001b[1;33m)\u001b[0m\u001b[1;33m)\u001b[0m\u001b[1;33m\u001b[0m\u001b[1;33m\u001b[0m\u001b[0m\n",
      "\u001b[1;32mC:\\Computer_Science\\Anaconda\\lib\\site-packages\\sklearn\\metrics\\_regression.py\u001b[0m in \u001b[0;36mmean_squared_error\u001b[1;34m(y_true, y_pred, sample_weight, multioutput, squared)\u001b[0m\n\u001b[0;32m    250\u001b[0m     \"\"\"\n\u001b[0;32m    251\u001b[0m     y_type, y_true, y_pred, multioutput = _check_reg_targets(\n\u001b[1;32m--> 252\u001b[1;33m         y_true, y_pred, multioutput)\n\u001b[0m\u001b[0;32m    253\u001b[0m     \u001b[0mcheck_consistent_length\u001b[0m\u001b[1;33m(\u001b[0m\u001b[0my_true\u001b[0m\u001b[1;33m,\u001b[0m \u001b[0my_pred\u001b[0m\u001b[1;33m,\u001b[0m \u001b[0msample_weight\u001b[0m\u001b[1;33m)\u001b[0m\u001b[1;33m\u001b[0m\u001b[1;33m\u001b[0m\u001b[0m\n\u001b[0;32m    254\u001b[0m     output_errors = np.average((y_true - y_pred) ** 2, axis=0,\n",
      "\u001b[1;32mC:\\Computer_Science\\Anaconda\\lib\\site-packages\\sklearn\\metrics\\_regression.py\u001b[0m in \u001b[0;36m_check_reg_targets\u001b[1;34m(y_true, y_pred, multioutput, dtype)\u001b[0m\n\u001b[0;32m     82\u001b[0m \u001b[1;33m\u001b[0m\u001b[0m\n\u001b[0;32m     83\u001b[0m     \"\"\"\n\u001b[1;32m---> 84\u001b[1;33m     \u001b[0mcheck_consistent_length\u001b[0m\u001b[1;33m(\u001b[0m\u001b[0my_true\u001b[0m\u001b[1;33m,\u001b[0m \u001b[0my_pred\u001b[0m\u001b[1;33m)\u001b[0m\u001b[1;33m\u001b[0m\u001b[1;33m\u001b[0m\u001b[0m\n\u001b[0m\u001b[0;32m     85\u001b[0m     \u001b[0my_true\u001b[0m \u001b[1;33m=\u001b[0m \u001b[0mcheck_array\u001b[0m\u001b[1;33m(\u001b[0m\u001b[0my_true\u001b[0m\u001b[1;33m,\u001b[0m \u001b[0mensure_2d\u001b[0m\u001b[1;33m=\u001b[0m\u001b[1;32mFalse\u001b[0m\u001b[1;33m,\u001b[0m \u001b[0mdtype\u001b[0m\u001b[1;33m=\u001b[0m\u001b[0mdtype\u001b[0m\u001b[1;33m)\u001b[0m\u001b[1;33m\u001b[0m\u001b[1;33m\u001b[0m\u001b[0m\n\u001b[0;32m     86\u001b[0m     \u001b[0my_pred\u001b[0m \u001b[1;33m=\u001b[0m \u001b[0mcheck_array\u001b[0m\u001b[1;33m(\u001b[0m\u001b[0my_pred\u001b[0m\u001b[1;33m,\u001b[0m \u001b[0mensure_2d\u001b[0m\u001b[1;33m=\u001b[0m\u001b[1;32mFalse\u001b[0m\u001b[1;33m,\u001b[0m \u001b[0mdtype\u001b[0m\u001b[1;33m=\u001b[0m\u001b[0mdtype\u001b[0m\u001b[1;33m)\u001b[0m\u001b[1;33m\u001b[0m\u001b[1;33m\u001b[0m\u001b[0m\n",
      "\u001b[1;32mC:\\Computer_Science\\Anaconda\\lib\\site-packages\\sklearn\\utils\\validation.py\u001b[0m in \u001b[0;36mcheck_consistent_length\u001b[1;34m(*arrays)\u001b[0m\n\u001b[0;32m    210\u001b[0m     \u001b[1;32mif\u001b[0m \u001b[0mlen\u001b[0m\u001b[1;33m(\u001b[0m\u001b[0muniques\u001b[0m\u001b[1;33m)\u001b[0m \u001b[1;33m>\u001b[0m \u001b[1;36m1\u001b[0m\u001b[1;33m:\u001b[0m\u001b[1;33m\u001b[0m\u001b[1;33m\u001b[0m\u001b[0m\n\u001b[0;32m    211\u001b[0m         raise ValueError(\"Found input variables with inconsistent numbers of\"\n\u001b[1;32m--> 212\u001b[1;33m                          \" samples: %r\" % [int(l) for l in lengths])\n\u001b[0m\u001b[0;32m    213\u001b[0m \u001b[1;33m\u001b[0m\u001b[0m\n\u001b[0;32m    214\u001b[0m \u001b[1;33m\u001b[0m\u001b[0m\n",
      "\u001b[1;31mValueError\u001b[0m: Found input variables with inconsistent numbers of samples: [1001, 201]"
     ]
    }
   ],
   "source": [
    "errors2 = abs(predict2 - flags2)\n",
    "print('Mean Absolute Error:', round(np.mean(errors2), 2), 'degrees.')\n",
    "print(mean_squared_error(predict2, y_test))\n",
    "print(mean_squared_error(flag2, predict2))"
   ]
  },
  {
   "cell_type": "code",
   "execution_count": null,
   "metadata": {},
   "outputs": [],
   "source": []
  },
  {
   "cell_type": "code",
   "execution_count": 105,
   "metadata": {},
   "outputs": [
    {
     "data": {
      "text/plain": [
       "BaggingRegressor(base_estimator=None, bootstrap=True, bootstrap_features=False,\n",
       "                 max_features=1.0, max_samples=1.0, n_estimators=10,\n",
       "                 n_jobs=None, oob_score=False, random_state=None, verbose=0,\n",
       "                 warm_start=False)"
      ]
     },
     "execution_count": 105,
     "metadata": {},
     "output_type": "execute_result"
    }
   ],
   "source": [
    "from sklearn.ensemble import BaggingRegressor\n",
    "\n",
    "abr = BaggingRegressor(base_estimator=None, n_estimators=10, max_samples=1.0, max_features=1.0, \n",
    "                        bootstrap=True, bootstrap_features=False, oob_score=False, warm_start=False, \n",
    "                        n_jobs=None, random_state=None, verbose=0)\n",
    "abr.fit(X_train, y_train)"
   ]
  },
  {
   "cell_type": "code",
   "execution_count": 106,
   "metadata": {},
   "outputs": [],
   "source": [
    "predict = clf.predict(X_test)"
   ]
  },
  {
   "cell_type": "code",
   "execution_count": 107,
   "metadata": {},
   "outputs": [
    {
     "name": "stdout",
     "output_type": "stream",
     "text": [
      "Mean Absolute Error: 0.35 degrees.\n"
     ]
    }
   ],
   "source": [
    "errors = abs(predict - y_test)\n",
    "print('Mean Absolute Error:', round(np.mean(errors), 2), 'degrees.')"
   ]
  },
  {
   "cell_type": "code",
   "execution_count": 108,
   "metadata": {},
   "outputs": [
    {
     "name": "stdout",
     "output_type": "stream",
     "text": [
      "Mean Absolute Error: 0.62 degrees.\n"
     ]
    }
   ],
   "source": [
    "predict2 = abr.predict(G17_data[1])\n",
    "errors2 = abs(predict2 - flags2)\n",
    "print('Mean Absolute Error:', round(np.mean(errors2), 2), 'degrees.')"
   ]
  },
  {
   "cell_type": "code",
   "execution_count": null,
   "metadata": {},
   "outputs": [],
   "source": []
  },
  {
   "cell_type": "code",
   "execution_count": 110,
   "metadata": {},
   "outputs": [],
   "source": []
  },
  {
   "cell_type": "code",
   "execution_count": null,
   "metadata": {},
   "outputs": [],
   "source": []
  }
 ],
 "metadata": {
  "kernelspec": {
   "display_name": "Python 3",
   "language": "python",
   "name": "python3"
  },
  "language_info": {
   "codemirror_mode": {
    "name": "ipython",
    "version": 3
   },
   "file_extension": ".py",
   "mimetype": "text/x-python",
   "name": "python",
   "nbconvert_exporter": "python",
   "pygments_lexer": "ipython3",
   "version": "3.7.6"
  }
 },
 "nbformat": 4,
 "nbformat_minor": 4
}
