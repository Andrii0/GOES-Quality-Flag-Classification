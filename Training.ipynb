{
 "cells": [
  {
   "cell_type": "code",
   "execution_count": 33,
   "metadata": {
    "collapsed": false
   },
   "outputs": [],
   "source": [
    "import numpy as np\n",
    "import os\n",
    "import os.path as op\n",
    "import h5py\n",
    "import shutil\n",
    "import requests\n",
    "import statistics"
   ]
  },
  {
   "cell_type": "code",
   "execution_count": 34,
   "metadata": {
    "collapsed": true
   },
   "outputs": [],
   "source": [
    "outpath = '../../goesdata/processedData'"
   ]
  },
  {
   "cell_type": "code",
   "execution_count": 41,
   "metadata": {
    "collapsed": true
   },
   "outputs": [],
   "source": [
    "def makeLabels(outpath):\n",
    "    # PATH TO STORE THE TRAINING SAMPLES\n",
    "    #outpath = '/Users/aleex/DSE/Machine Learning/Project/label/'\n",
    "    if not os.path.exists(outpath):\n",
    "        os.makedirs(outpath)\n",
    "\n",
    "    def genLabel(goes16, goes17):\n",
    "        n1 = len(goes16)*len(goes16[0])\n",
    "        n2 = len(goes17)*len(goes17[0])\n",
    "\n",
    "        std1 = np.std(goes16)\n",
    "        std2 = np.std(goes17)\n",
    "\n",
    "        diff = goes16 - goes17\n",
    "        diff_std = np.std(diff)\n",
    "\n",
    "        delta = abs(goes16 - goes17)\n",
    "        label = delta//diff_std\n",
    "        label = label.astype(int)\n",
    "\n",
    "        return label\n",
    "\n",
    "    def writeH5(data, label, uniTime):\n",
    "        coords = np.array(data).astype(np.float)\n",
    "        shape = coords.shape\n",
    "        hdf5_path = outpath + uniTime + '.h5'\n",
    "        with h5py.File(hdf5_path, mode='w') as f:\n",
    "            d = f.create_dataset('/data', data = coords)\n",
    "            l = f.create_dataset('/label', data = label)\n",
    "\n",
    "    #ROOT URL OF THE NPY FILES\n",
    "    rootURL = \"https://gitlab.com/adomakor412/goesdata/-/raw/master/spring_npy/\"\n",
    "    for idx in range(98, 109):    \n",
    "        for h in range(0, 24):\n",
    "            for m in range(0, 6):\n",
    "                with open('log2', 'a') as log:\n",
    "                    timeID = f\"s2019{str(idx).zfill(3)}{str(h).zfill(2)}{str(m*10).zfill(2)}\"\n",
    "                    \n",
    "                    goes16_url_07 = rootURL + f\"{str(idx).zfill(3)}/OR_ABI-L1b-RadF-M6C07_G16_{timeID}\"\n",
    "                    goes17_url_07 = rootURL + f\"{str(idx).zfill(3)}/OR_ABI-L1b-RadF-M6C07_G17_{timeID}\"\n",
    "\n",
    "                    goes16_url_08 = rootURL + f\"{str(idx).zfill(3)}/OR_ABI-L1b-RadF-M6C08_G16_{timeID}\"\n",
    "                    goes17_url_08 = rootURL + f\"{str(idx).zfill(3)}/OR_ABI-L1b-RadF-M6C08_G17_{timeID}\"\n",
    "\n",
    "                    goes16_url_09 = rootURL + f\"{str(idx).zfill(3)}/OR_ABI-L1b-RadF-M6C09_G16_{timeID}\"\n",
    "                    goes17_url_09 = rootURL + f\"{str(idx).zfill(3)}/OR_ABI-L1b-RadF-M6C09_G17_{timeID}\"\n",
    "                    \n",
    "                    goes16_url_10 = rootURL + f\"{str(idx).zfill(3)}/OR_ABI-L1b-RadF-M6C10_G16_{timeID}\"\n",
    "                    goes17_url_10 = rootURL + f\"{str(idx).zfill(3)}/OR_ABI-L1b-RadF-M6C10_G17_{timeID}\"\n",
    "                    \n",
    "                   \n",
    "                    try:\n",
    "                        response16_07 = requests.get(goes16_url_07, stream=True)\n",
    "                        response17_07 = requests.get(goes17_url_07, stream=True)\n",
    "\n",
    "                        response16_08 = requests.get(goes16_url_08, stream=True)\n",
    "                        response17_08 = requests.get(goes17_url_08, stream=True)\n",
    "\n",
    "                        response16_09 = requests.get(goes16_url_09, stream=True)\n",
    "                        response17_09 = requests.get(goes17_url_09, stream=True)\n",
    "\n",
    "                        response16_10 = requests.get(goes16_url_10, stream=True)\n",
    "                        response17_10 = requests.get(goes17_url_10, stream=True)\n",
    "\n",
    "                        print(timeID)\n",
    "                        \n",
    "                        with open('temp16_07.npy', 'wb') as temp16:\n",
    "                            shutil.copyfileobj(response16_07.raw, temp16)\n",
    "                        with open('temp17_07.npy', 'wb') as temp17:\n",
    "                            shutil.copyfileobj(response17_07.raw, temp17)\n",
    "                        with open('temp16_08.npy', 'wb') as temp16:\n",
    "                            shutil.copyfileobj(response16_08.raw, temp16)\n",
    "                        with open('temp17_08.npy', 'wb') as temp17:\n",
    "                            shutil.copyfileobj(response17_08.raw, temp17)\n",
    "                        with open('temp16_09.npy', 'wb') as temp16:\n",
    "                            shutil.copyfileobj(response16_09.raw, temp16)\n",
    "                        with open('temp17_09.npy', 'wb') as temp17:\n",
    "                            shutil.copyfileobj(response17_09.raw, temp17)\n",
    "                        with open('temp16_10.npy', 'wb') as temp16:\n",
    "                            shutil.copyfileobj(response16_10.raw, temp16)\n",
    "                        with open('temp17_10.npy', 'wb') as temp17:\n",
    "                            shutil.copyfileobj(response17_10.raw, temp17)\n",
    "                            \n",
    "                        data16_07 = np.load('temp16_07.npy')\n",
    "                        data17_07 = np.load('temp17_07.npy')\n",
    "                        \n",
    "                        data16_08 = np.load('temp16_08.npy')\n",
    "                        data17_08 = np.load('temp17_08.npy')\n",
    "                        \n",
    "                        data16_09 = np.load('temp16_09.npy')\n",
    "                        data17_09 = np.load('temp17_09.npy')\n",
    "                        \n",
    "                        data16_10 = np.load('temp16_10.npy')\n",
    "                        data17_10 = np.load('temp17_10.npy')\n",
    "                        \n",
    "                        labels_07 = genLabel(data16_07, data17_07)\n",
    "                        labels_08 = genLabel(data16_08, data17_08)\n",
    "                        labels_09 = genLabel(data16_09, data17_09)\n",
    "                        labels_10 = genLabel(data16_10, data17_10)\n",
    "                        \n",
    "                        stack = np.stack([data17_07, data17_08, data17_09, data17_10])\n",
    "                        stack = stack.ravel\n",
    "                        labelStack = np.stack([labels_07,labels_08,labels_09,labels_10])\n",
    "                        vote = np.round(np.median(labelStack,axis=2))\n",
    "                        writeH5(stack, vote, timeID)\n",
    "                        \n",
    "                    except ValueError as e:\n",
    "                        print(\"url doesn't exist for \" + str(goes16_url))\n",
    "                        print(e)\n",
    "                        print('\\n')\n",
    "                        print(str(goes16_url), file=log)\n",
    "                        print('\\n')\n",
    "                        print(e, file=log)           \n",
    "\n"
   ]
  },
  {
   "cell_type": "code",
   "execution_count": 42,
   "metadata": {
    "collapsed": false
   },
   "outputs": [
    {
     "name": "stdout",
     "output_type": "stream",
     "text": [
      "s20190980000\n"
     ]
    },
    {
     "ename": "TypeError",
     "evalue": "float() argument must be a string or a number, not 'builtin_function_or_method'",
     "output_type": "error",
     "traceback": [
      "\u001b[0;31m---------------------------------------------------------------------------\u001b[0m",
      "\u001b[0;31mTypeError\u001b[0m                                 Traceback (most recent call last)",
      "\u001b[0;32m<ipython-input-42-71badf5ce13c>\u001b[0m in \u001b[0;36m<module>\u001b[0;34m\u001b[0m\n\u001b[0;32m----> 1\u001b[0;31m \u001b[0mmakeLabels\u001b[0m\u001b[0;34m(\u001b[0m\u001b[0moutpath\u001b[0m\u001b[0;34m)\u001b[0m\u001b[0;34m\u001b[0m\u001b[0;34m\u001b[0m\u001b[0m\n\u001b[0m",
      "\u001b[0;32m<ipython-input-41-d2c4370e9657>\u001b[0m in \u001b[0;36mmakeLabels\u001b[0;34m(outpath)\u001b[0m\n\u001b[1;32m    103\u001b[0m                         \u001b[0mlabelStack\u001b[0m \u001b[0;34m=\u001b[0m \u001b[0mnp\u001b[0m\u001b[0;34m.\u001b[0m\u001b[0mstack\u001b[0m\u001b[0;34m(\u001b[0m\u001b[0;34m[\u001b[0m\u001b[0mlabels_07\u001b[0m\u001b[0;34m,\u001b[0m\u001b[0mlabels_08\u001b[0m\u001b[0;34m,\u001b[0m\u001b[0mlabels_09\u001b[0m\u001b[0;34m,\u001b[0m\u001b[0mlabels_10\u001b[0m\u001b[0;34m]\u001b[0m\u001b[0;34m)\u001b[0m\u001b[0;34m\u001b[0m\u001b[0;34m\u001b[0m\u001b[0m\n\u001b[1;32m    104\u001b[0m                         \u001b[0mvote\u001b[0m \u001b[0;34m=\u001b[0m \u001b[0mnp\u001b[0m\u001b[0;34m.\u001b[0m\u001b[0mround\u001b[0m\u001b[0;34m(\u001b[0m\u001b[0mnp\u001b[0m\u001b[0;34m.\u001b[0m\u001b[0mmedian\u001b[0m\u001b[0;34m(\u001b[0m\u001b[0mlabelStack\u001b[0m\u001b[0;34m,\u001b[0m\u001b[0maxis\u001b[0m\u001b[0;34m=\u001b[0m\u001b[0;36m2\u001b[0m\u001b[0;34m)\u001b[0m\u001b[0;34m)\u001b[0m\u001b[0;34m\u001b[0m\u001b[0;34m\u001b[0m\u001b[0m\n\u001b[0;32m--> 105\u001b[0;31m                         \u001b[0mwriteH5\u001b[0m\u001b[0;34m(\u001b[0m\u001b[0mstack\u001b[0m\u001b[0;34m,\u001b[0m \u001b[0mvote\u001b[0m\u001b[0;34m,\u001b[0m \u001b[0mtimeID\u001b[0m\u001b[0;34m)\u001b[0m\u001b[0;34m\u001b[0m\u001b[0;34m\u001b[0m\u001b[0m\n\u001b[0m\u001b[1;32m    106\u001b[0m \u001b[0;34m\u001b[0m\u001b[0m\n\u001b[1;32m    107\u001b[0m                     \u001b[0;32mexcept\u001b[0m \u001b[0mValueError\u001b[0m \u001b[0;32mas\u001b[0m \u001b[0me\u001b[0m\u001b[0;34m:\u001b[0m\u001b[0;34m\u001b[0m\u001b[0;34m\u001b[0m\u001b[0m\n",
      "\u001b[0;32m<ipython-input-41-d2c4370e9657>\u001b[0m in \u001b[0;36mwriteH5\u001b[0;34m(data, label, uniTime)\u001b[0m\n\u001b[1;32m     22\u001b[0m \u001b[0;34m\u001b[0m\u001b[0m\n\u001b[1;32m     23\u001b[0m     \u001b[0;32mdef\u001b[0m \u001b[0mwriteH5\u001b[0m\u001b[0;34m(\u001b[0m\u001b[0mdata\u001b[0m\u001b[0;34m,\u001b[0m \u001b[0mlabel\u001b[0m\u001b[0;34m,\u001b[0m \u001b[0muniTime\u001b[0m\u001b[0;34m)\u001b[0m\u001b[0;34m:\u001b[0m\u001b[0;34m\u001b[0m\u001b[0;34m\u001b[0m\u001b[0m\n\u001b[0;32m---> 24\u001b[0;31m         \u001b[0mcoords\u001b[0m \u001b[0;34m=\u001b[0m \u001b[0mnp\u001b[0m\u001b[0;34m.\u001b[0m\u001b[0marray\u001b[0m\u001b[0;34m(\u001b[0m\u001b[0mdata\u001b[0m\u001b[0;34m)\u001b[0m\u001b[0;34m.\u001b[0m\u001b[0mastype\u001b[0m\u001b[0;34m(\u001b[0m\u001b[0mnp\u001b[0m\u001b[0;34m.\u001b[0m\u001b[0mfloat\u001b[0m\u001b[0;34m)\u001b[0m\u001b[0;34m\u001b[0m\u001b[0;34m\u001b[0m\u001b[0m\n\u001b[0m\u001b[1;32m     25\u001b[0m         \u001b[0mshape\u001b[0m \u001b[0;34m=\u001b[0m \u001b[0mcoords\u001b[0m\u001b[0;34m.\u001b[0m\u001b[0mshape\u001b[0m\u001b[0;34m\u001b[0m\u001b[0;34m\u001b[0m\u001b[0m\n\u001b[1;32m     26\u001b[0m         \u001b[0mhdf5_path\u001b[0m \u001b[0;34m=\u001b[0m \u001b[0moutpath\u001b[0m \u001b[0;34m+\u001b[0m \u001b[0muniTime\u001b[0m \u001b[0;34m+\u001b[0m \u001b[0;34m'.h5'\u001b[0m\u001b[0;34m\u001b[0m\u001b[0;34m\u001b[0m\u001b[0m\n",
      "\u001b[0;31mTypeError\u001b[0m: float() argument must be a string or a number, not 'builtin_function_or_method'"
     ]
    }
   ],
   "source": [
    "makeLabels(outpath)"
   ]
  },
  {
   "cell_type": "code",
   "execution_count": null,
   "metadata": {
    "collapsed": true
   },
   "outputs": [],
   "source": []
  }
 ],
 "metadata": {
  "kernelspec": {
   "display_name": "Python 3",
   "language": "python",
   "name": "python3"
  },
  "language_info": {
   "codemirror_mode": {
    "name": "ipython",
    "version": 3
   },
   "file_extension": ".py",
   "mimetype": "text/x-python",
   "name": "python",
   "nbconvert_exporter": "python",
   "pygments_lexer": "ipython3",
   "version": "3.7.4"
  }
 },
 "nbformat": 4,
 "nbformat_minor": 0
}
